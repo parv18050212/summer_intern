{
 "cells": [
  {
   "cell_type": "code",
   "execution_count": 11,
   "metadata": {},
   "outputs": [],
   "source": [
    "import cv2\n",
    "\n",
    "\n",
    "cap = cv2.VideoCapture(0)\n",
    "status , photo = cap.read()"
   ]
  },
  {
   "cell_type": "code",
   "execution_count": 12,
   "metadata": {},
   "outputs": [],
   "source": [
    "cv2.imshow('photo1',photo)\n",
    "cv2.waitKey()\n",
    "cv2.destroyAllWindows()\n"
   ]
  },
  {
   "cell_type": "code",
   "execution_count": null,
   "metadata": {},
   "outputs": [],
   "source": [
    "cap.release()"
   ]
  },
  {
   "cell_type": "code",
   "execution_count": 9,
   "metadata": {},
   "outputs": [
    {
     "data": {
      "text/plain": [
       "numpy.ndarray"
      ]
     },
     "execution_count": 9,
     "metadata": {},
     "output_type": "execute_result"
    }
   ],
   "source": [
    "type(photo)"
   ]
  },
  {
   "cell_type": "code",
   "execution_count": 10,
   "metadata": {},
   "outputs": [],
   "source": [
    "import numpy as np"
   ]
  },
  {
   "cell_type": "code",
   "execution_count": 16,
   "metadata": {},
   "outputs": [
    {
     "data": {
      "text/plain": [
       "(3, 2)"
      ]
     },
     "execution_count": 16,
     "metadata": {},
     "output_type": "execute_result"
    }
   ],
   "source": [
    "a = np.array([[1,11],\n",
    "              [2,22],\n",
    "              [3,33],])\n",
    "a.shape"
   ]
  },
  {
   "cell_type": "code",
   "execution_count": 17,
   "metadata": {},
   "outputs": [
    {
     "data": {
      "text/plain": [
       "(480, 640, 3)"
      ]
     },
     "execution_count": 17,
     "metadata": {},
     "output_type": "execute_result"
    }
   ],
   "source": [
    "photo.shape"
   ]
  },
  {
   "cell_type": "code",
   "execution_count": 18,
   "metadata": {},
   "outputs": [
    {
     "data": {
      "text/plain": [
       "array([[[110, 101, 101],\n",
       "        [111, 102, 102],\n",
       "        [112, 103, 103],\n",
       "        ...,\n",
       "        [255, 236, 203],\n",
       "        [253, 241, 205],\n",
       "        [254, 245, 208]],\n",
       "\n",
       "       [[111, 102, 102],\n",
       "        [111, 102, 102],\n",
       "        [111, 102, 102],\n",
       "        ...,\n",
       "        [255, 239, 206],\n",
       "        [255, 243, 207],\n",
       "        [255, 247, 210]],\n",
       "\n",
       "       [[112, 103, 103],\n",
       "        [112, 103, 103],\n",
       "        [111, 102, 102],\n",
       "        ...,\n",
       "        [255, 241, 204],\n",
       "        [255, 247, 207],\n",
       "        [255, 251, 209]],\n",
       "\n",
       "       ...,\n",
       "\n",
       "       [[ 85,  87,  71],\n",
       "        [ 85,  87,  70],\n",
       "        [ 87,  89,  69],\n",
       "        ...,\n",
       "        [ 39,  32,  26],\n",
       "        [ 37,  30,  24],\n",
       "        [ 36,  29,  23]],\n",
       "\n",
       "       [[ 77,  82,  76],\n",
       "        [ 78,  83,  75],\n",
       "        [ 80,  83,  73],\n",
       "        ...,\n",
       "        [ 38,  31,  25],\n",
       "        [ 37,  30,  24],\n",
       "        [ 36,  29,  23]],\n",
       "\n",
       "       [[ 81,  86,  80],\n",
       "        [ 82,  87,  79],\n",
       "        [ 84,  87,  77],\n",
       "        ...,\n",
       "        [ 38,  31,  25],\n",
       "        [ 36,  29,  23],\n",
       "        [ 36,  29,  23]]], dtype=uint8)"
      ]
     },
     "execution_count": 18,
     "metadata": {},
     "output_type": "execute_result"
    }
   ],
   "source": [
    "photo"
   ]
  },
  {
   "cell_type": "code",
   "execution_count": 27,
   "metadata": {},
   "outputs": [],
   "source": [
    "photo[0][0] = [0,0,0]"
   ]
  },
  {
   "cell_type": "code",
   "execution_count": 28,
   "metadata": {},
   "outputs": [],
   "source": [
    "photo[20] = [0,255,0]"
   ]
  },
  {
   "cell_type": "code",
   "execution_count": 29,
   "metadata": {},
   "outputs": [
    {
     "data": {
      "text/plain": [
       "array([[[  0,   0,   0],\n",
       "        [111, 102, 102],\n",
       "        [112, 103, 103],\n",
       "        ...,\n",
       "        [255, 236, 203],\n",
       "        [253, 241, 205],\n",
       "        [254, 245, 208]],\n",
       "\n",
       "       [[111, 102, 102],\n",
       "        [111, 102, 102],\n",
       "        [111, 102, 102],\n",
       "        ...,\n",
       "        [255, 239, 206],\n",
       "        [255, 243, 207],\n",
       "        [255, 247, 210]],\n",
       "\n",
       "       [[112, 103, 103],\n",
       "        [112, 103, 103],\n",
       "        [111, 102, 102],\n",
       "        ...,\n",
       "        [255, 241, 204],\n",
       "        [255, 247, 207],\n",
       "        [255, 251, 209]],\n",
       "\n",
       "       ...,\n",
       "\n",
       "       [[ 85,  87,  71],\n",
       "        [ 85,  87,  70],\n",
       "        [ 87,  89,  69],\n",
       "        ...,\n",
       "        [ 39,  32,  26],\n",
       "        [ 37,  30,  24],\n",
       "        [ 36,  29,  23]],\n",
       "\n",
       "       [[ 77,  82,  76],\n",
       "        [ 78,  83,  75],\n",
       "        [ 80,  83,  73],\n",
       "        ...,\n",
       "        [ 38,  31,  25],\n",
       "        [ 37,  30,  24],\n",
       "        [ 36,  29,  23]],\n",
       "\n",
       "       [[ 81,  86,  80],\n",
       "        [ 82,  87,  79],\n",
       "        [ 84,  87,  77],\n",
       "        ...,\n",
       "        [ 38,  31,  25],\n",
       "        [ 36,  29,  23],\n",
       "        [ 36,  29,  23]]], dtype=uint8)"
      ]
     },
     "execution_count": 29,
     "metadata": {},
     "output_type": "execute_result"
    }
   ],
   "source": [
    "photo\n"
   ]
  },
  {
   "cell_type": "code",
   "execution_count": 42,
   "metadata": {},
   "outputs": [
    {
     "data": {
      "text/plain": [
       "array([[ 1, 11],\n",
       "       [ 2, 22],\n",
       "       [43, 33]])"
      ]
     },
     "execution_count": 42,
     "metadata": {},
     "output_type": "execute_result"
    }
   ],
   "source": [
    "a[2][0] += 20 \n",
    "a"
   ]
  },
  {
   "cell_type": "code",
   "execution_count": 43,
   "metadata": {},
   "outputs": [
    {
     "data": {
      "text/plain": [
       "array([[101, 111],\n",
       "       [102, 122],\n",
       "       [143, 133]])"
      ]
     },
     "execution_count": 43,
     "metadata": {},
     "output_type": "execute_result"
    }
   ],
   "source": [
    "a += 100\n",
    "a"
   ]
  },
  {
   "cell_type": "code",
   "execution_count": 13,
   "metadata": {},
   "outputs": [
    {
     "data": {
      "text/plain": [
       "array([[[ 67,  70,  71],\n",
       "        [ 66,  69,  70],\n",
       "        [ 66,  69,  70],\n",
       "        ...,\n",
       "        [ 66,  66,  69],\n",
       "        [ 70,  70,  73],\n",
       "        [ 73,  74,  81]],\n",
       "\n",
       "       [[ 68,  71,  72],\n",
       "        [ 67,  70,  71],\n",
       "        [ 66,  69,  70],\n",
       "        ...,\n",
       "        [ 67,  67,  70],\n",
       "        [ 71,  71,  74],\n",
       "        [ 74,  75,  82]],\n",
       "\n",
       "       [[ 71,  72,  73],\n",
       "        [ 70,  71,  72],\n",
       "        [ 68,  69,  70],\n",
       "        ...,\n",
       "        [ 64,  66,  74],\n",
       "        [ 69,  69,  78],\n",
       "        [ 73,  75,  83]],\n",
       "\n",
       "       ...,\n",
       "\n",
       "       [[109, 109, 105],\n",
       "        [106, 107, 101],\n",
       "        [105, 106,  99],\n",
       "        ...,\n",
       "        [ 60,  54,  62],\n",
       "        [ 59,  52,  60],\n",
       "        [ 55,  50,  58]],\n",
       "\n",
       "       [[105, 105, 101],\n",
       "        [103, 104,  98],\n",
       "        [102, 104,  95],\n",
       "        ...,\n",
       "        [ 55,  54,  61],\n",
       "        [ 53,  52,  59],\n",
       "        [ 50,  50,  57]],\n",
       "\n",
       "       [[ 98,  98,  94],\n",
       "        [ 96,  97,  91],\n",
       "        [ 95,  97,  88],\n",
       "        ...,\n",
       "        [ 55,  54,  61],\n",
       "        [ 52,  51,  58],\n",
       "        [ 49,  49,  56]]], dtype=uint8)"
      ]
     },
     "execution_count": 13,
     "metadata": {},
     "output_type": "execute_result"
    }
   ],
   "source": [
    "photo[100:300 , 250:400]"
   ]
  },
  {
   "cell_type": "markdown",
   "metadata": {},
   "source": [
    "task1 - Ek coustom photo  bnani h \n",
    "\n",
    "task2 - change face with someone\n",
    "\n",
    "task3 - make your own face\n",
    "\n",
    "task4 - get the sunglasses and append it to  your face\n",
    "\n",
    "task5 - remove all the green and blue color and show red color \n"
   ]
  },
  {
   "cell_type": "code",
   "execution_count": null,
   "metadata": {},
   "outputs": [],
   "source": []
  },
  {
   "cell_type": "code",
   "execution_count": 23,
   "metadata": {},
   "outputs": [],
   "source": []
  },
  {
   "cell_type": "code",
   "execution_count": 25,
   "metadata": {},
   "outputs": [],
   "source": [
    "\n",
    "import cv2\n",
    "cap = cv2.VideoCapture(0)\n",
    "while True:\n",
    "    # Read a frame from the camera\n",
    "    ret, frame = cap.read()\n",
    "    \n",
    "    # If a frame was successfully read, display it\n",
    "    if ret:\n",
    "        cv2.imshow('parv', frame)\n",
    "    \n",
    "    # Break the loop if the Enter key (key code 13) is pressed\n",
    "    if cv2.waitKey(100) == 13:\n",
    "        break\n",
    "\n",
    "# Release the video capture object and close the window\n",
    "cap.release()\n",
    "cv2.destroyAllWindows()\n"
   ]
  },
  {
   "cell_type": "code",
   "execution_count": 5,
   "metadata": {},
   "outputs": [],
   "source": [
    "cap.release()"
   ]
  },
  {
   "cell_type": "markdown",
   "metadata": {},
   "source": [
    "ek coustom photo"
   ]
  },
  {
   "cell_type": "code",
   "execution_count": 2,
   "metadata": {},
   "outputs": [],
   "source": [
    "import cv2\n",
    "cap = cv2.VideoCapture(0)"
   ]
  },
  {
   "cell_type": "code",
   "execution_count": 3,
   "metadata": {},
   "outputs": [],
   "source": [
    "import cv2\n",
    "import pywhatkit\n",
    "\n",
    "def capture_and_send_image(phone):\n",
    "    # Capture image from webcam\n",
    "    cap = cv2.VideoCapture(0)\n",
    "    if not cap.isOpened():\n",
    "        print(\"Error: Could not open video device.\")\n",
    "        return\n",
    "\n",
    "    status, photo = cap.read()\n",
    "    if not status:\n",
    "        print(\"Error: Could not read frame from video device.\")\n",
    "        return\n",
    "\n",
    "    # Display the captured image\n",
    "    cv2.imshow('Captured Image', photo[250:])\n",
    "    cv2.waitKey(5000)\n",
    "    cv2.destroyAllWindows()\n",
    "\n",
    "    # Save the captured image\n",
    "    image_path = 'image.png'\n",
    "    cv2.imwrite(image_path, photo)\n",
    "\n",
    "    # Release the webcam\n",
    "    cap.release()\n",
    "\n",
    "    # Send the captured image via WhatsApp\n",
    "    pywhatkit.sendwhats_image(phone, image_path)\n",
    "\n",
    "# Get the phone number from the user\n",
    "phone_number = input(\"Enter the phone number (with country code, e.g., +919410780293): \")\n",
    "\n",
    "# Call the function with the user-provided phone number\n",
    "capture_and_send_image(phone_number)\n",
    "    \n",
    "\n",
    "\n"
   ]
  },
  {
   "cell_type": "code",
   "execution_count": 4,
   "metadata": {},
   "outputs": [
    {
     "data": {
      "text/plain": [
       "True"
      ]
     },
     "execution_count": 4,
     "metadata": {},
     "output_type": "execute_result"
    }
   ],
   "source": [
    "cv2.imwrite('image.png',photo)\n"
   ]
  },
  {
   "cell_type": "code",
   "execution_count": 21,
   "metadata": {},
   "outputs": [
    {
     "data": {
      "text/plain": [
       "array([[[0, 0, 0],\n",
       "        [0, 0, 0],\n",
       "        [0, 0, 0],\n",
       "        ...,\n",
       "        [0, 0, 0],\n",
       "        [0, 0, 0],\n",
       "        [0, 0, 0]],\n",
       "\n",
       "       [[0, 0, 0],\n",
       "        [0, 0, 0],\n",
       "        [0, 0, 0],\n",
       "        ...,\n",
       "        [0, 0, 0],\n",
       "        [0, 0, 0],\n",
       "        [0, 0, 0]],\n",
       "\n",
       "       [[0, 0, 0],\n",
       "        [0, 0, 0],\n",
       "        [0, 0, 0],\n",
       "        ...,\n",
       "        [0, 0, 0],\n",
       "        [0, 0, 0],\n",
       "        [0, 0, 0]],\n",
       "\n",
       "       ...,\n",
       "\n",
       "       [[0, 0, 0],\n",
       "        [0, 0, 0],\n",
       "        [0, 0, 0],\n",
       "        ...,\n",
       "        [0, 0, 0],\n",
       "        [0, 0, 0],\n",
       "        [0, 0, 0]],\n",
       "\n",
       "       [[0, 0, 0],\n",
       "        [0, 0, 0],\n",
       "        [0, 0, 0],\n",
       "        ...,\n",
       "        [0, 0, 0],\n",
       "        [0, 0, 0],\n",
       "        [0, 0, 0]],\n",
       "\n",
       "       [[0, 0, 0],\n",
       "        [0, 0, 0],\n",
       "        [0, 0, 0],\n",
       "        ...,\n",
       "        [0, 0, 0],\n",
       "        [0, 0, 0],\n",
       "        [0, 0, 0]]], dtype=uint8)"
      ]
     },
     "execution_count": 21,
     "metadata": {},
     "output_type": "execute_result"
    }
   ],
   "source": [
    "photo * 0\n"
   ]
  },
  {
   "cell_type": "code",
   "execution_count": 22,
   "metadata": {},
   "outputs": [
    {
     "data": {
      "text/plain": [
       "True"
      ]
     },
     "execution_count": 22,
     "metadata": {},
     "output_type": "execute_result"
    }
   ],
   "source": [
    "cv2.imwrite('image.png',photo)"
   ]
  },
  {
   "cell_type": "code",
   "execution_count": 5,
   "metadata": {},
   "outputs": [],
   "source": [
    "import numpy as np\n",
    "import cv2"
   ]
  },
  {
   "cell_type": "code",
   "execution_count": 6,
   "metadata": {},
   "outputs": [],
   "source": [
    "c = np.zeros((300,300,3),dtype=\"uint8\")\n",
    "\n"
   ]
  },
  {
   "cell_type": "code",
   "execution_count": 12,
   "metadata": {},
   "outputs": [],
   "source": [
    "c = cv2.rectangle(c,(50,50),(250,250),(255,0,0),10) \n",
    "c = cv2.rectangle(c,(100,100),(200,200),(0,255,0),10) \n",
    "c = cv2.rectangle(c,(200,200),(150,150),(0,0,255),10) "
   ]
  },
  {
   "cell_type": "code",
   "execution_count": 13,
   "metadata": {},
   "outputs": [],
   "source": [
    "cv2.imshow('image',c)\n",
    "cv2.waitKey()\n",
    "cv2.destroyAllWindows()"
   ]
  },
  {
   "cell_type": "code",
   "execution_count": 14,
   "metadata": {},
   "outputs": [],
   "source": [
    "import cv2"
   ]
  },
  {
   "cell_type": "code",
   "execution_count": 36,
   "metadata": {},
   "outputs": [],
   "source": [
    "image = cv2.imread('niharika.jpg')\n",
    "image2 = cv2.imread('jayansh.jpg')"
   ]
  },
  {
   "cell_type": "code",
   "execution_count": 33,
   "metadata": {},
   "outputs": [
    {
     "data": {
      "text/plain": [
       "array([[[ 99, 154, 185],\n",
       "        [ 99, 154, 185],\n",
       "        [ 97, 154, 186],\n",
       "        ...,\n",
       "        [ 41,  67, 103],\n",
       "        [ 41,  67, 103],\n",
       "        [ 41,  67, 103]],\n",
       "\n",
       "       [[ 98, 153, 184],\n",
       "        [ 98, 153, 184],\n",
       "        [ 96, 153, 185],\n",
       "        ...,\n",
       "        [ 42,  68, 104],\n",
       "        [ 41,  67, 103],\n",
       "        [ 41,  67, 103]],\n",
       "\n",
       "       [[ 97, 152, 183],\n",
       "        [ 97, 152, 183],\n",
       "        [ 95, 152, 184],\n",
       "        ...,\n",
       "        [ 42,  68, 104],\n",
       "        [ 42,  68, 104],\n",
       "        [ 41,  67, 103]],\n",
       "\n",
       "       ...,\n",
       "\n",
       "       [[ 87, 139, 175],\n",
       "        [ 86, 142, 177],\n",
       "        [ 87, 143, 178],\n",
       "        ...,\n",
       "        [ 73, 121, 179],\n",
       "        [ 73, 121, 179],\n",
       "        [ 74, 122, 180]],\n",
       "\n",
       "       [[ 88, 140, 176],\n",
       "        [ 87, 143, 178],\n",
       "        [ 88, 144, 179],\n",
       "        ...,\n",
       "        [ 73, 121, 179],\n",
       "        [ 74, 122, 180],\n",
       "        [ 75, 123, 181]],\n",
       "\n",
       "       [[ 88, 142, 177],\n",
       "        [ 87, 143, 178],\n",
       "        [ 86, 144, 179],\n",
       "        ...,\n",
       "        [ 72, 122, 180],\n",
       "        [ 74, 122, 180],\n",
       "        [ 75, 123, 181]]], dtype=uint8)"
      ]
     },
     "execution_count": 33,
     "metadata": {},
     "output_type": "execute_result"
    }
   ],
   "source": [
    "image[100:400,100:500] #= image2[70:230, 130:300]"
   ]
  },
  {
   "cell_type": "code",
   "execution_count": 1,
   "metadata": {},
   "outputs": [
    {
     "name": "stdout",
     "output_type": "stream",
     "text": [
      "[['Vishal Singh' 'Jaipur' 'SKIT, Jaipur' '9636575691' 'devops engineer']\n",
      " ['Bhavesh Trivedi' 'Kota' 'Manipal' '8875364339' 'prompt engineer']\n",
      " ['Md Mushahid' 'Dhanbad' 'BCR' '9693251345' 'software engineer']\n",
      " ['Nikhil Garhwal' 'Sikar' 'SIET' '800706380' 'entrepreneur']\n",
      " ['Abhishek Giri' 'Lucknow' 'AKTU' '6307920537' 'Software engineer']\n",
      " ['Manthan Rudra' 'Amravati' 'BRMIT' '9404902644' 'cloud engineer']\n",
      " ['Yugal Singh' 'Jaipur' 'ISIM' '7976527610' 'linux engineer']\n",
      " ['Sahil Verma' 'Bhiwani' 'AMITY' '9518157511' 'prompt engineer']\n",
      " ['Abhinav Agarwal' 'Jaipur' 'Manipal' '8000499522' 'Software engineer']\n",
      " ['Harshita Sharma' 'Jaipur' 'amity' '9351529233' 'devops engineer']\n",
      " ['Anshul Mathur' 'Jodhpur' 'SPSU' '9636274630' 'entrepreneur']\n",
      " ['Pranav Jain' 'Jaspur' 'GLA' '9410780293' 'Devops engineer']\n",
      " ['Araman Anshari' 'Kota' 'RTU' '8306754589' 'Software engineer']\n",
      " ['Anil Pooniya' 'Jaipur' 'SKIT' '6376036737' 'prompt engineer']\n",
      " ['Ritesh Shani' 'Raipur' 'KU' '8434568290' 'Software engineer']\n",
      " ['Krish Yadav' 'Jaipur' 'SKIT' '7357689192' 'Prompt engineer']\n",
      " ['Sanjeev Ranjan' 'Jaipur' 'PIET' '7627095913' 'to die']\n",
      " ['Rahul Wankhade' 'Nagpur' 'GCEK' '9359733858' 'data analyst']]\n"
     ]
    }
   ],
   "source": [
    "import numpy as np\n",
    "\n",
    "data = [\n",
    "    [\"Vishal Singh\", \"Jaipur\", \"SKIT, Jaipur\", \"9636575691\", \"devops engineer\"],\n",
    "    [\"Bhavesh Trivedi\", \"Kota\", \"Manipal\", \"8875364339\", \"prompt engineer\"],\n",
    "    [\"Md Mushahid\", \"Dhanbad\", \"BCR\", \"9693251345\", \"software engineer\"],\n",
    "    [\"Nikhil Garhwal\", \"Sikar\", \"SIET\", \"800706380\", \"entrepreneur\"],\n",
    "    [\"Abhishek Giri\", \"Lucknow\", \"AKTU\", \"6307920537\", \"Software engineer\"],\n",
    "    [\"Manthan Rudra\", \"Amravati\", \"BRMIT\", \"9404902644\", \"cloud engineer\"],\n",
    "    [\"Yugal Singh\", \"Jaipur\", \"ISIM\", \"7976527610\", \"linux engineer\"],\n",
    "    [\"Sahil Verma\", \"Bhiwani\", \"AMITY\", \"9518157511\", \"prompt engineer\"],\n",
    "    [\"Abhinav Agarwal\", \"Jaipur\", \"Manipal\", \"8000499522\", \"Software engineer\"],\n",
    "    [\"Harshita Sharma\", \"Jaipur\", \"amity\", \"9351529233\", \"devops engineer\"],\n",
    "    [\"Anshul Mathur\", \"Jodhpur\", \"SPSU\", \"9636274630\", \"entrepreneur\"],\n",
    "    [\"Pranav Jain\", \"Jaspur\", \"GLA\", \"9410780293\", \"Devops engineer\"],\n",
    "    [\"Araman Anshari\", \"Kota\", \"RTU\", \"8306754589\", \"Software engineer\"],\n",
    "    [\"Anil Pooniya\", \"Jaipur\", \"SKIT\", \"6376036737\", \"prompt engineer\"],\n",
    "    [\"Ritesh Shani\", \"Raipur\", \"KU\", \"8434568290\", \"Software engineer\"],\n",
    "    [\"Krish Yadav\", \"Jaipur\", \"SKIT\", \"7357689192\", \"Prompt engineer\"],\n",
    "    [\"Sanjeev Ranjan\", \"Jaipur\", \"PIET\", \"7627095913\", \"to die\"],\n",
    "    [\"Rahul Wankhade\", \"Nagpur\", \"GCEK\", \"9359733858\", \"data analyst\"],\n",
    "]\n",
    "\n",
    "# Create a NumPy array\n",
    "data_array = np.array(data)\n",
    "\n",
    "# Print the NumPy array\n",
    "print(data_array)\n"
   ]
  },
  {
   "cell_type": "code",
   "execution_count": 7,
   "metadata": {},
   "outputs": [
    {
     "name": "stdout",
     "output_type": "stream",
     "text": [
      "In 86351 Seconds WhatsApp will open and after 15 Seconds Message will be Delivered!\n"
     ]
    }
   ],
   "source": []
  },
  {
   "cell_type": "code",
   "execution_count": 5,
   "metadata": {},
   "outputs": [
    {
     "name": "stdout",
     "output_type": "stream",
     "text": [
      "Note: you may need to restart the kernel to use updated packages.Defaulting to user installation because normal site-packages is not writeable\n",
      "Collecting twilio\n",
      "  Using cached twilio-9.2.3-py2.py3-none-any.whl.metadata (12 kB)\n",
      "Requirement already satisfied: requests>=2.0.0 in c:\\users\\parva\\appdata\\local\\packages\\pythonsoftwarefoundation.python.3.12_qbz5n2kfra8p0\\localcache\\local-packages\\python312\\site-packages (from twilio) (2.32.3)\n",
      "Requirement already satisfied: PyJWT<3.0.0,>=2.0.0 in c:\\users\\parva\\appdata\\local\\packages\\pythonsoftwarefoundation.python.3.12_qbz5n2kfra8p0\\localcache\\local-packages\\python312\\site-packages (from twilio) (2.8.0)\n",
      "Requirement already satisfied: aiohttp>=3.8.4 in c:\\users\\parva\\appdata\\local\\packages\\pythonsoftwarefoundation.python.3.12_qbz5n2kfra8p0\\localcache\\local-packages\\python312\\site-packages (from twilio) (3.9.5)\n",
      "Requirement already satisfied: aiohttp-retry>=2.8.3 in c:\\users\\parva\\appdata\\local\\packages\\pythonsoftwarefoundation.python.3.12_qbz5n2kfra8p0\\localcache\\local-packages\\python312\\site-packages (from twilio) (2.8.3)\n",
      "Requirement already satisfied: aiosignal>=1.1.2 in c:\\users\\parva\\appdata\\local\\packages\\pythonsoftwarefoundation.python.3.12_qbz5n2kfra8p0\\localcache\\local-packages\\python312\\site-packages (from aiohttp>=3.8.4->twilio) (1.3.1)\n",
      "Requirement already satisfied: attrs>=17.3.0 in c:\\users\\parva\\appdata\\local\\packages\\pythonsoftwarefoundation.python.3.12_qbz5n2kfra8p0\\localcache\\local-packages\\python312\\site-packages (from aiohttp>=3.8.4->twilio) (23.2.0)\n",
      "Requirement already satisfied: frozenlist>=1.1.1 in c:\\users\\parva\\appdata\\local\\packages\\pythonsoftwarefoundation.python.3.12_qbz5n2kfra8p0\\localcache\\local-packages\\python312\\site-packages (from aiohttp>=3.8.4->twilio) (1.4.1)\n",
      "Requirement already satisfied: multidict<7.0,>=4.5 in c:\\users\\parva\\appdata\\local\\packages\\pythonsoftwarefoundation.python.3.12_qbz5n2kfra8p0\\localcache\\local-packages\\python312\\site-packages (from aiohttp>=3.8.4->twilio) (6.0.5)\n",
      "Requirement already satisfied: yarl<2.0,>=1.0 in c:\\users\\parva\\appdata\\local\\packages\\pythonsoftwarefoundation.python.3.12_qbz5n2kfra8p0\\localcache\\local-packages\\python312\\site-packages (from aiohttp>=3.8.4->twilio) (1.9.4)\n",
      "Requirement already satisfied: charset-normalizer<4,>=2 in c:\\users\\parva\\appdata\\local\\packages\\pythonsoftwarefoundation.python.3.12_qbz5n2kfra8p0\\localcache\\local-packages\\python312\\site-packages (from requests>=2.0.0->twilio) (3.3.2)\n",
      "Requirement already satisfied: idna<4,>=2.5 in c:\\users\\parva\\appdata\\local\\packages\\pythonsoftwarefoundation.python.3.12_qbz5n2kfra8p0\\localcache\\local-packages\\python312\\site-packages (from requests>=2.0.0->twilio) (3.7)\n",
      "Requirement already satisfied: urllib3<3,>=1.21.1 in c:\\users\\parva\\appdata\\local\\packages\\pythonsoftwarefoundation.python.3.12_qbz5n2kfra8p0\\localcache\\local-packages\\python312\\site-packages (from requests>=2.0.0->twilio) (2.2.2)\n",
      "Requirement already satisfied: certifi>=2017.4.17 in c:\\users\\parva\\appdata\\local\\packages\\pythonsoftwarefoundation.python.3.12_qbz5n2kfra8p0\\localcache\\local-packages\\python312\\site-packages (from requests>=2.0.0->twilio) (2024.6.2)\n",
      "Using cached twilio-9.2.3-py2.py3-none-any.whl (1.8 MB)\n",
      "Installing collected packages: twilio\n",
      "\n"
     ]
    },
    {
     "name": "stderr",
     "output_type": "stream",
     "text": [
      "ERROR: Could not install packages due to an OSError: [Errno 2] No such file or directory: 'C:\\\\Users\\\\parva\\\\AppData\\\\Local\\\\Packages\\\\PythonSoftwareFoundation.Python.3.12_qbz5n2kfra8p0\\\\LocalCache\\\\local-packages\\\\Python312\\\\site-packages\\\\twilio\\\\rest\\\\api\\\\v2010\\\\account\\\\sip\\\\domain\\\\auth_types\\\\auth_type_registrations\\\\auth_registrations_credential_list_mapping.py'\n",
      "\n",
      "\n",
      "[notice] A new release of pip is available: 24.0 -> 24.1.1\n",
      "[notice] To update, run: C:\\Users\\parva\\AppData\\Local\\Microsoft\\WindowsApps\\PythonSoftwareFoundation.Python.3.12_qbz5n2kfra8p0\\python.exe -m pip install --upgrade pip\n"
     ]
    }
   ],
   "source": [
    "pip install twilio"
   ]
  },
  {
   "cell_type": "code",
   "execution_count": 2,
   "metadata": {},
   "outputs": [
    {
     "name": "stdout",
     "output_type": "stream",
     "text": [
      "Message sent to 9636575691\n",
      "Message sent to 8875364339\n",
      "Message sent to 9693251345\n",
      "Message sent to 800706380\n",
      "Message sent to 6307920537\n",
      "Message sent to 9404902644\n"
     ]
    },
    {
     "ename": "KeyboardInterrupt",
     "evalue": "",
     "output_type": "error",
     "traceback": [
      "\u001b[1;31m---------------------------------------------------------------------------\u001b[0m",
      "\u001b[1;31mKeyboardInterrupt\u001b[0m                         Traceback (most recent call last)",
      "Cell \u001b[1;32mIn[2], line 36\u001b[0m\n\u001b[0;32m     34\u001b[0m \u001b[38;5;66;03m# Send instant WhatsApp messages\u001b[39;00m\n\u001b[0;32m     35\u001b[0m \u001b[38;5;28;01mfor\u001b[39;00m number \u001b[38;5;129;01min\u001b[39;00m phone_numbers:\n\u001b[1;32m---> 36\u001b[0m     \u001b[43mkit\u001b[49m\u001b[38;5;241;43m.\u001b[39;49m\u001b[43msendwhatmsg_instantly\u001b[49m\u001b[43m(\u001b[49m\u001b[38;5;124;43mf\u001b[39;49m\u001b[38;5;124;43m\"\u001b[39;49m\u001b[38;5;124;43m+91\u001b[39;49m\u001b[38;5;132;43;01m{\u001b[39;49;00m\u001b[43mnumber\u001b[49m\u001b[38;5;132;43;01m}\u001b[39;49;00m\u001b[38;5;124;43m\"\u001b[39;49m\u001b[43m,\u001b[49m\u001b[43m \u001b[49m\u001b[38;5;124;43m\"\u001b[39;49m\u001b[38;5;124;43mHi, LW Welcomes you from team gumnaam\u001b[39;49m\u001b[38;5;124;43m\"\u001b[39;49m\u001b[43m)\u001b[49m\n\u001b[0;32m     37\u001b[0m     \u001b[38;5;28mprint\u001b[39m(\u001b[38;5;124mf\u001b[39m\u001b[38;5;124m\"\u001b[39m\u001b[38;5;124mMessage sent to \u001b[39m\u001b[38;5;132;01m{\u001b[39;00mnumber\u001b[38;5;132;01m}\u001b[39;00m\u001b[38;5;124m\"\u001b[39m)\n\u001b[0;32m     38\u001b[0m     time\u001b[38;5;241m.\u001b[39msleep(\u001b[38;5;241m10\u001b[39m)  \u001b[38;5;66;03m# Sleep to prevent spamming too quickly\u001b[39;00m\n",
      "File \u001b[1;32m~\\AppData\\Local\\Packages\\PythonSoftwareFoundation.Python.3.12_qbz5n2kfra8p0\\LocalCache\\local-packages\\Python312\\site-packages\\pywhatkit\\whats.py:31\u001b[0m, in \u001b[0;36msendwhatmsg_instantly\u001b[1;34m(phone_no, message, wait_time, tab_close, close_time)\u001b[0m\n\u001b[0;32m     29\u001b[0m time\u001b[38;5;241m.\u001b[39msleep(\u001b[38;5;241m4\u001b[39m)\n\u001b[0;32m     30\u001b[0m pg\u001b[38;5;241m.\u001b[39mclick(core\u001b[38;5;241m.\u001b[39mWIDTH \u001b[38;5;241m/\u001b[39m \u001b[38;5;241m2\u001b[39m, core\u001b[38;5;241m.\u001b[39mHEIGHT \u001b[38;5;241m/\u001b[39m \u001b[38;5;241m2\u001b[39m)\n\u001b[1;32m---> 31\u001b[0m \u001b[43mtime\u001b[49m\u001b[38;5;241;43m.\u001b[39;49m\u001b[43msleep\u001b[49m\u001b[43m(\u001b[49m\u001b[43mwait_time\u001b[49m\u001b[43m \u001b[49m\u001b[38;5;241;43m-\u001b[39;49m\u001b[43m \u001b[49m\u001b[38;5;241;43m4\u001b[39;49m\u001b[43m)\u001b[49m\n\u001b[0;32m     32\u001b[0m pg\u001b[38;5;241m.\u001b[39mpress(\u001b[38;5;124m\"\u001b[39m\u001b[38;5;124menter\u001b[39m\u001b[38;5;124m\"\u001b[39m)\n\u001b[0;32m     33\u001b[0m log\u001b[38;5;241m.\u001b[39mlog_message(_time\u001b[38;5;241m=\u001b[39mtime\u001b[38;5;241m.\u001b[39mlocaltime(), receiver\u001b[38;5;241m=\u001b[39mphone_no, message\u001b[38;5;241m=\u001b[39mmessage)\n",
      "\u001b[1;31mKeyboardInterrupt\u001b[0m: "
     ]
    }
   ],
   "source": [
    "import numpy as np\n",
    "import pywhatkit as kit\n",
    "import time\n",
    "\n",
    "# Define the data\n",
    "data = [\n",
    "    [\"Vishal Singh\", \"Jaipur\", \"SKIT, Jaipur\", \"9636575691\", \"devops engineer\"],\n",
    "    [\"Bhavesh Trivedi\", \"Kota\", \"Manipal\", \"8875364339\", \"prompt engineer\"],\n",
    "    [\"Md Mushahid\", \"Dhanbad\", \"BCR\", \"9693251345\", \"software engineer\"],\n",
    "    [\"Nikhil Garhwal\", \"Sikar\", \"SIET\", \"800706380\", \"entrepreneur\"],\n",
    "    [\"Abhishek Giri\", \"Lucknow\", \"AKTU\", \"6307920537\", \"Software engineer\"],\n",
    "    [\"Manthan Rudra\", \"Amravati\", \"BRMIT\", \"9404902644\", \"cloud engineer\"],\n",
    "    [\"Yugal Singh\", \"Jaipur\", \"ISIM\", \"7976527610\", \"linux engineer\"],\n",
    "    [\"Sahil Verma\", \"Bhiwani\", \"AMITY\", \"9518157511\", \"prompt engineer\"],\n",
    "    [\"Abhinav Agarwal\", \"Jaipur\", \"Manipal\", \"8000499522\", \"Software engineer\"],\n",
    "    [\"Harshita Sharma\", \"Jaipur\", \"amity\", \"9351529233\", \"devops engineer\"],\n",
    "    [\"Anshul Mathur\", \"Jodhpur\", \"SPSU\", \"9636274630\", \"entrepreneur\"],\n",
    "    [\"Pranav Jain\", \"Jaspur\", \"GLA\", \"9410780293\", \"Devops engineer\"],\n",
    "    [\"Araman Anshari\", \"Kota\", \"RTU\", \"8306754589\", \"Software engineer\"],\n",
    "    [\"Anil Pooniya\", \"Jaipur\", \"SKIT\", \"6376036737\", \"prompt engineer\"],\n",
    "    [\"Ritesh Shani\", \"Raipur\", \"KU\", \"8434568290\", \"Software engineer\"],\n",
    "    [\"Krish Yadav\", \"Jaipur\", \"SKIT\", \"7357689192\", \"Prompt engineer\"],\n",
    "    [\"Sanjeev Ranjan\", \"Jaipur\", \"PIET\", \"7627095913\", \"to die\"],\n",
    "    [\"Rahul Wankhade\", \"Nagpur\", \"GCEK\", \"9359733858\", \"data analyst\"],\n",
    "    ['d0','d','e','8445948244','5']\n",
    "]\n",
    "\n",
    "# Create a NumPy array\n",
    "data_array = np.array(data)\n",
    "\n",
    "# Extract phone numbers\n",
    "phone_numbers = data_array[:, 3]\n",
    "\n",
    "# Send instant WhatsApp messages\n",
    "for number in phone_numbers:\n",
    "    kit.sendwhatmsg_instantly(f\"+91{number}\", \"Hi, LW Welcomes you from team gumnaam\")\n",
    "    print(f\"Message sent to {number}\")\n",
    "    time.sleep(10)  # Sleep to prevent spamming too quickly\n"
   ]
  },
  {
   "cell_type": "code",
   "execution_count": 4,
   "metadata": {},
   "outputs": [
    {
     "name": "stdout",
     "output_type": "stream",
     "text": [
      "Life purposes of students from SKIT:\n",
      "Vishal Singh: devops engineer\n",
      "Anil Pooniya: prompt engineer\n",
      "Krish Yadav: Prompt engineer\n"
     ]
    }
   ],
   "source": [
    "import numpy as np\n",
    "\n",
    "# Define the data\n",
    "data = [\n",
    "    [\"Vishal Singh\", \"Jaipur\", \"SKIT\", \"9636575691\", \"devops engineer\"],\n",
    "    [\"Bhavesh Trivedi\", \"Kota\", \"Manipal\", \"8875364339\", \"prompt engineer\"],\n",
    "    [\"Md Mushahid\", \"Dhanbad\", \"BCR\", \"9693251345\", \"software engineer\"],\n",
    "    [\"Nikhil Garhwal\", \"Sikar\", \"SIET\", \"800706380\", \"entrepreneur\"],\n",
    "    [\"Abhishek Giri\", \"Lucknow\", \"AKTU\", \"6307920537\", \"Software engineer\"],\n",
    "    [\"Manthan Rudra\", \"Amravati\", \"BRMIT\", \"9404902644\", \"cloud engineer\"],\n",
    "    [\"Yugal Singh\", \"Jaipur\", \"ISIM\", \"7976527610\", \"linux engineer\"],\n",
    "    [\"Sahil Verma\", \"Bhiwani\", \"AMITY\", \"9518157511\", \"prompt engineer\"],\n",
    "    [\"Abhinav Agarwal\", \"Jaipur\", \"Manipal\", \"8000499522\", \"Software engineer\"],\n",
    "    [\"Harshita Sharma\", \"Jaipur\", \"amity\", \"9351529233\", \"devops engineer\"],\n",
    "    [\"Anshul Mathur\", \"Jodhpur\", \"SPSU\", \"9636274630\", \"entrepreneur\"],\n",
    "    [\"Pranav Jain\", \"Jaspur\", \"GLA\", \"9410780293\", \"Devops engineer\"],\n",
    "    [\"Araman Anshari\", \"Kota\", \"RTU\", \"8306754589\", \"Software engineer\"],\n",
    "    [\"Anil Pooniya\", \"Jaipur\", \"SKIT\", \"6376036737\", \"prompt engineer\"],\n",
    "    [\"Ritesh Shani\", \"Raipur\", \"KU\", \"8434568290\", \"Software engineer\"],\n",
    "    [\"Krish Yadav\", \"Jaipur\", \"SKIT\", \"7357689192\", \"Prompt engineer\"],\n",
    "    [\"Sanjeev Ranjan\", \"Jaipur\", \"PIET\", \"7627095913\", \"to die\"],\n",
    "    [\"Rahul Wankhade\", \"Nagpur\", \"GCEK\", \"9359733858\", \"data analyst\"],\n",
    "]\n",
    "\n",
    "# Create a NumPy array\n",
    "data_array = np.array(data)\n",
    "\n",
    "# Function to get life purpose by college name\n",
    "def get_life_purpose(college_name, data):\n",
    "    life_purposes = []\n",
    "    for row in data:\n",
    "        if row[2].strip().lower() == college_name.strip().lower():\n",
    "            life_purposes.append((row[0], row[4]))\n",
    "    return life_purposes\n",
    "\n",
    "# Example usage\n",
    "college_name = \"SKIT\"\n",
    "life_purposes = get_life_purpose(college_name, data_array)\n",
    "\n",
    "if life_purposes:\n",
    "    print(f\"Life purposes of students from {college_name}:\")\n",
    "    for student, purpose in life_purposes:\n",
    "        print(f\"{student}: {purpose}\")\n",
    "else:\n",
    "    print(f\"No students found from {college_name}\")\n"
   ]
  },
  {
   "cell_type": "code",
   "execution_count": 12,
   "metadata": {},
   "outputs": [
    {
     "name": "stdout",
     "output_type": "stream",
     "text": [
      "Note: you may need to restart the kernel to use updated packages.\n",
      "Defaulting to user installation because normal site-packages is not writeable\n",
      "Requirement already satisfied: opencv-python in c:\\users\\parva\\appdata\\local\\packages\\pythonsoftwarefoundation.python.3.12_qbz5n2kfra8p0\\localcache\\local-packages\\python312\\site-packages (4.10.0.84)\n",
      "Requirement already satisfied: requests in c:\\users\\parva\\appdata\\local\\packages\\pythonsoftwarefoundation.python.3.12_qbz5n2kfra8p0\\localcache\\local-packages\\python312\\site-packages (2.32.3)\n",
      "Requirement already satisfied: numpy>=1.21.2 in c:\\users\\parva\\appdata\\local\\packages\\pythonsoftwarefoundation.python.3.12_qbz5n2kfra8p0\\localcache\\local-packages\\python312\\site-packages (from opencv-python) (1.26.4)\n",
      "Requirement already satisfied: charset-normalizer<4,>=2 in c:\\users\\parva\\appdata\\local\\packages\\pythonsoftwarefoundation.python.3.12_qbz5n2kfra8p0\\localcache\\local-packages\\python312\\site-packages (from requests) (3.3.2)\n",
      "Requirement already satisfied: idna<4,>=2.5 in c:\\users\\parva\\appdata\\local\\packages\\pythonsoftwarefoundation.python.3.12_qbz5n2kfra8p0\\localcache\\local-packages\\python312\\site-packages (from requests) (3.7)\n",
      "Requirement already satisfied: urllib3<3,>=1.21.1 in c:\\users\\parva\\appdata\\local\\packages\\pythonsoftwarefoundation.python.3.12_qbz5n2kfra8p0\\localcache\\local-packages\\python312\\site-packages (from requests) (2.2.2)\n",
      "Requirement already satisfied: certifi>=2017.4.17 in c:\\users\\parva\\appdata\\local\\packages\\pythonsoftwarefoundation.python.3.12_qbz5n2kfra8p0\\localcache\\local-packages\\python312\\site-packages (from requests) (2024.6.2)\n"
     ]
    },
    {
     "name": "stderr",
     "output_type": "stream",
     "text": [
      "\n",
      "[notice] A new release of pip is available: 24.0 -> 24.1.1\n",
      "[notice] To update, run: C:\\Users\\parva\\AppData\\Local\\Microsoft\\WindowsApps\\PythonSoftwareFoundation.Python.3.12_qbz5n2kfra8p0\\python.exe -m pip install --upgrade pip\n"
     ]
    }
   ],
   "source": [
    "pip install opencv-python requests\n"
   ]
  },
  {
   "cell_type": "code",
   "execution_count": 21,
   "metadata": {},
   "outputs": [],
   "source": [
    "import cv2\n",
    "import requests\n",
    "\n",
    "def stream_from_mobile(ip_address):\n",
    "    # Construct the video stream URL\n",
    "    stream_url = f\"http://100.115.188.3:8080/video\"\n",
    "    \n",
    "    # Open the video stream\n",
    "    cap = cv2.VideoCapture(stream_url)\n",
    "    \n",
    "    if not cap.isOpened():\n",
    "        print(\"Error: Could not open video stream.\")\n",
    "        return\n",
    "    \n",
    "    while True:\n",
    "        ret, frame = cap.read()\n",
    "        \n",
    "        if not ret:\n",
    "            print(\"Failed to grab frame.\")\n",
    "            break\n",
    "        \n",
    "        # Display the frame\n",
    "        cv2.imshow(\"Mobile Cam Stream\", frame)\n",
    "        \n",
    "        # Exit the loop if 'q' is pressed\n",
    "        if cv2.waitKey(1) & 0xFF == ord('q'):\n",
    "            break\n",
    "    \n",
    "    # Release the capture and close the window\n",
    "    cap.release()\n",
    "    cv2.destroyAllWindows()\n",
    "\n",
    "if __name__ == \"__main__\":\n",
    "    # Replace with the IP address provided by the IP Webcam app\n",
    "    ip_address = \"100.115.188.3:8080\"\n",
    "    stream_from_mobile(ip_address)\n"
   ]
  },
  {
   "cell_type": "code",
   "execution_count": 25,
   "metadata": {},
   "outputs": [
    {
     "name": "stdout",
     "output_type": "stream",
     "text": [
      "Image saved at processed_image.png\n"
     ]
    }
   ],
   "source": [
    "import cv2\n",
    "\n",
    "def capture_photo():\n",
    "    # Initialize the webcam\n",
    "    cap = cv2.VideoCapture(0)\n",
    "    \n",
    "    if not cap.isOpened():\n",
    "        print(\"Error: Could not open webcam.\")\n",
    "        return None\n",
    "    \n",
    "    # Capture a single frame\n",
    "    ret, frame = cap.read()\n",
    "    \n",
    "    # Release the webcam\n",
    "    cap.release()\n",
    "    \n",
    "    if not ret:\n",
    "        print(\"Error: Could not read frame from webcam.\")\n",
    "        return None\n",
    "    \n",
    "    return frame\n",
    "\n",
    "def detect_and_crop_face(image):\n",
    "    # Convert to grayscale\n",
    "    gray = cv2.cvtColor(image, cv2.COLOR_BGR2GRAY)\n",
    "    \n",
    "    # Load the pre-trained Haar Cascade classifier for face detection\n",
    "    face_cascade = cv2.CascadeClassifier(cv2.data.haarcascades + 'haarcascade_frontalface_default.xml')\n",
    "    \n",
    "    # Detect faces\n",
    "    faces = face_cascade.detectMultiScale(gray, scaleFactor=1.1, minNeighbors=5, minSize=(30, 30))\n",
    "    \n",
    "    if len(faces) == 0:\n",
    "        print(\"No faces detected.\")\n",
    "        return None\n",
    "    \n",
    "    # Assume the first detected face is the one we want to crop\n",
    "    (x, y, w, h) = faces[0]\n",
    "    cropped_face = image[y:y+h, x:x+w]\n",
    "    \n",
    "    return cropped_face\n",
    "\n",
    "def process_and_save_image(image, name, save_path):\n",
    "    # Convert to grayscale\n",
    "    gray_image = cv2.cvtColor(image, cv2.COLOR_BGR2GRAY)\n",
    "    \n",
    "    # Put the name text on the image\n",
    "    cv2.putText(gray_image, name, (10, 30), cv2.FONT_HERSHEY_SIMPLEX, 1, (255, 255, 255), 2, cv2.LINE_AA)\n",
    "    \n",
    "    # Save the image\n",
    "    cv2.imwrite(save_path, gray_image)\n",
    "    print(f\"Image saved at {save_path}\")\n",
    "\n",
    "if __name__ == \"__main__\":\n",
    "    # Capture photo from the webcam\n",
    "    photo = capture_photo()\n",
    "    \n",
    "    if photo is not None:\n",
    "        # Detect and crop the face\n",
    "        cropped_face = detect_and_crop_face(photo)\n",
    "        \n",
    "        if cropped_face is not None:\n",
    "            # Process and save the image\n",
    "            name = \"parv\"\n",
    "            save_path = \"processed_image.png\"\n",
    "            process_and_save_image(cropped_face, name, save_path)\n"
   ]
  },
  {
   "cell_type": "code",
   "execution_count": 1,
   "metadata": {},
   "outputs": [
    {
     "name": "stdout",
     "output_type": "stream",
     "text": [
      "Failed to send message to Bhavesh trivedi (919785006930): No module named 'twilio.rest.api.v2010.account.sip.domain.auth_types.auth_type_registrations.auth_registrations_credential_list_mapping'\n"
     ]
    }
   ],
   "source": [
    "from twilio.rest import Client\n",
    "\n",
    "# Twilio credentials\n",
    "account_sid = 'ACd30553122b46fa9003f41ab0d5f79860'\n",
    "auth_token = 'e54aa134ae79b40d74ca56daf670b069'\n",
    "twilio_number = '+18156058231'\n",
    "\n",
    "# Initialize the Twilio client\n",
    "client = Client(account_sid, auth_token)\n",
    "\n",
    "# Data (reformatted for ease of use)\n",
    "data = [\n",
    "    {\"name\": \"Vishal singh\", \"city\": \"Jaipur\", \"college\": \"SKIT, Jaipur\", \"ph_no\": \"918126187270\", \"aim_of_life\": \"devops engineer\"},\n",
    "    {\"name\": \"Bhavesh trivedi\", \"city\": \"Kota\", \"college\": \"Manipal\", \"ph_no\": \"919785006930\", \"aim_of_life\": \"prompt engineer\"},\n",
    "    {\"name\": \"Md Mushahid\", \"city\": \"jaipur\", \"college\": \"BCR\", \"ph_no\": \"916350249258\", \"aim_of_life\": \"software engineer\"},\n",
    "]\n",
    "\n",
    "# Filter contacts who do not belong to Jaipur\n",
    "non_jaipur_contacts = [contact for contact in data if contact[\"city\"].lower() != \"jaipur\"]\n",
    "\n",
    "# Message to be sent\n",
    "message_text = \"Welcome to Pink City, Jaipur\"\n",
    "\n",
    "# Send SMS to each contact\n",
    "for contact in non_jaipur_contacts:\n",
    "    phone_number = contact[\"ph_no\"]\n",
    "    try:\n",
    "        message = client.messages.create(\n",
    "            body=message_text,\n",
    "            from_=twilio_number,\n",
    "            to=phone_number\n",
    "        )\n",
    "        print(f\"Message sent to {contact['name']} ({phone_number})\")\n",
    "    except Exception as e:\n",
    "        print(f\"Failed to send message to {contact['name']} ({phone_number}): {e}\")\n"
   ]
  },
  {
   "cell_type": "code",
   "execution_count": 5,
   "metadata": {},
   "outputs": [
    {
     "name": "stdout",
     "output_type": "stream",
     "text": [
      "Defaulting to user installation because normal site-packages is not writeable\n",
      "Collecting twilio\n",
      "  Using cached twilio-9.2.3-py2.py3-none-any.whl.metadata (12 kB)\n",
      "Requirement already satisfied: requests>=2.0.0 in c:\\users\\parva\\appdata\\local\\packages\\pythonsoftwarefoundation.python.3.12_qbz5n2kfra8p0\\localcache\\local-packages\\python312\\site-packages (from twilio) (2.32.3)\n",
      "Requirement already satisfied: PyJWT<3.0.0,>=2.0.0 in c:\\users\\parva\\appdata\\local\\packages\\pythonsoftwarefoundation.python.3.12_qbz5n2kfra8p0\\localcache\\local-packages\\python312\\site-packages (from twilio) (2.8.0)\n",
      "Requirement already satisfied: aiohttp>=3.8.4 in c:\\users\\parva\\appdata\\local\\packages\\pythonsoftwarefoundation.python.3.12_qbz5n2kfra8p0\\localcache\\local-packages\\python312\\site-packages (from twilio) (3.9.5)\n",
      "Requirement already satisfied: aiohttp-retry>=2.8.3 in c:\\users\\parva\\appdata\\local\\packages\\pythonsoftwarefoundation.python.3.12_qbz5n2kfra8p0\\localcache\\local-packages\\python312\\site-packages (from twilio) (2.8.3)\n",
      "Requirement already satisfied: aiosignal>=1.1.2 in c:\\users\\parva\\appdata\\local\\packages\\pythonsoftwarefoundation.python.3.12_qbz5n2kfra8p0\\localcache\\local-packages\\python312\\site-packages (from aiohttp>=3.8.4->twilio) (1.3.1)\n",
      "Requirement already satisfied: attrs>=17.3.0 in c:\\users\\parva\\appdata\\local\\packages\\pythonsoftwarefoundation.python.3.12_qbz5n2kfra8p0\\localcache\\local-packages\\python312\\site-packages (from aiohttp>=3.8.4->twilio) (23.2.0)\n",
      "Requirement already satisfied: frozenlist>=1.1.1 in c:\\users\\parva\\appdata\\local\\packages\\pythonsoftwarefoundation.python.3.12_qbz5n2kfra8p0\\localcache\\local-packages\\python312\\site-packages (from aiohttp>=3.8.4->twilio) (1.4.1)\n",
      "Requirement already satisfied: multidict<7.0,>=4.5 in c:\\users\\parva\\appdata\\local\\packages\\pythonsoftwarefoundation.python.3.12_qbz5n2kfra8p0\\localcache\\local-packages\\python312\\site-packages (from aiohttp>=3.8.4->twilio) (6.0.5)\n",
      "Requirement already satisfied: yarl<2.0,>=1.0 in c:\\users\\parva\\appdata\\local\\packages\\pythonsoftwarefoundation.python.3.12_qbz5n2kfra8p0\\localcache\\local-packages\\python312\\site-packages (from aiohttp>=3.8.4->twilio) (1.9.4)\n",
      "Requirement already satisfied: charset-normalizer<4,>=2 in c:\\users\\parva\\appdata\\local\\packages\\pythonsoftwarefoundation.python.3.12_qbz5n2kfra8p0\\localcache\\local-packages\\python312\\site-packages (from requests>=2.0.0->twilio) (3.3.2)\n",
      "Requirement already satisfied: idna<4,>=2.5 in c:\\users\\parva\\appdata\\local\\packages\\pythonsoftwarefoundation.python.3.12_qbz5n2kfra8p0\\localcache\\local-packages\\python312\\site-packages (from requests>=2.0.0->twilio) (3.7)\n",
      "Requirement already satisfied: urllib3<3,>=1.21.1 in c:\\users\\parva\\appdata\\local\\packages\\pythonsoftwarefoundation.python.3.12_qbz5n2kfra8p0\\localcache\\local-packages\\python312\\site-packages (from requests>=2.0.0->twilio) (2.2.2)\n",
      "Requirement already satisfied: certifi>=2017.4.17 in c:\\users\\parva\\appdata\\local\\packages\\pythonsoftwarefoundation.python.3.12_qbz5n2kfra8p0\\localcache\\local-packages\\python312\\site-packages (from requests>=2.0.0->twilio) (2024.6.2)\n",
      "Using cached twilio-9.2.3-py2.py3-none-any.whl (1.8 MB)\n",
      "Installing collected packages: twilio\n",
      "Note: you may need to restart the kernel to use updated packages.\n"
     ]
    },
    {
     "name": "stderr",
     "output_type": "stream",
     "text": [
      "ERROR: Could not install packages due to an OSError: [Errno 2] No such file or directory: 'C:\\\\Users\\\\parva\\\\AppData\\\\Local\\\\Packages\\\\PythonSoftwareFoundation.Python.3.12_qbz5n2kfra8p0\\\\LocalCache\\\\local-packages\\\\Python312\\\\site-packages\\\\twilio\\\\rest\\\\api\\\\v2010\\\\account\\\\sip\\\\domain\\\\auth_types\\\\auth_type_registrations\\\\auth_registrations_credential_list_mapping.py'\n",
      "\n",
      "\n",
      "[notice] A new release of pip is available: 24.0 -> 24.1.1\n",
      "[notice] To update, run: C:\\Users\\parva\\AppData\\Local\\Microsoft\\WindowsApps\\PythonSoftwareFoundation.Python.3.12_qbz5n2kfra8p0\\python.exe -m pip install --upgrade pip\n"
     ]
    }
   ],
   "source": [
    "\n",
    "pip install twilio\n"
   ]
  },
  {
   "cell_type": "code",
   "execution_count": null,
   "metadata": {},
   "outputs": [],
   "source": []
  },
  {
   "cell_type": "code",
   "execution_count": 1,
   "metadata": {},
   "outputs": [
    {
     "name": "stdout",
     "output_type": "stream",
     "text": [
      " * Serving Flask app '__main__'\n",
      " * Debug mode: off\n"
     ]
    },
    {
     "name": "stderr",
     "output_type": "stream",
     "text": [
      "WARNING: This is a development server. Do not use it in a production deployment. Use a production WSGI server instead.\n",
      " * Running on all addresses (0.0.0.0)\n",
      " * Running on http://127.0.0.1:5000\n",
      " * Running on http://192.168.111.73:5000\n",
      "Press CTRL+C to quit\n",
      "192.168.111.73 - - [06/Jul/2024 19:11:10] \"GET / HTTP/1.1\" 200 -\n",
      "127.0.0.1 - - [06/Jul/2024 19:11:15] \"GET / HTTP/1.1\" 200 -\n",
      "127.0.0.1 - - [06/Jul/2024 19:11:15] \"GET /favicon.ico HTTP/1.1\" 404 -\n"
     ]
    }
   ],
   "source": [
    "from flask import Flask, Response\n",
    "import cv2\n",
    "\n",
    "app = Flask(__name__)\n",
    "\n",
    "def gen_frames():\n",
    "    camera = cv2.VideoCapture(0)  # Use 0 for web camera\n",
    "\n",
    "    while True:\n",
    "        success, frame = camera.read()\n",
    "        if not success:\n",
    "            break\n",
    "        else:\n",
    "            ret, buffer = cv2.imencode('.jpg', frame)\n",
    "            frame = buffer.tobytes()\n",
    "            yield (b'--frame\\r\\n'\n",
    "                   b'Content-Type: image/jpeg\\r\\n\\r\\n' + frame + b'\\r\\n')\n",
    "\n",
    "@app.route('/video_feed')\n",
    "def video_feed():\n",
    "    return Response(gen_frames(),\n",
    "                    mimetype='multipart/x-mixed-replace; boundary=frame')\n",
    "\n",
    "@app.route('/')\n",
    "def index():\n",
    "    return \"Live Streaming is active. Go to /video_feed to view.\"\n",
    "\n",
    "if __name__ == '__main__':\n",
    "    app.run(host='0.0.0.0', port=5000)\n",
    "\n",
    "from twilio.rest import Client\n",
    "\n",
    "# Twilio setup\n",
    "TWILIO_ACCOUNT_SID = 'AC9d7cf318a1c101e8cbd511ab25060c7a'\n",
    "TWILIO_AUTH_TOKEN = 'd126f4896c906ac6760be5e573b4d615'\n",
    "TWILIO_PHONE_NUMBER = '+17079690945'\n",
    "\n",
    "def send_sms(to_phone_number, message):\n",
    "    client = Client(TWILIO_ACCOUNT_SID, TWILIO_AUTH_TOKEN)\n",
    "    message = client.messages.create(\n",
    "        body=message,\n",
    "        from_=TWILIO_PHONE_NUMBER,\n",
    "        to=to_phone_number\n",
    "    )\n",
    "    return message.sid\n",
    "\n",
    "if __name__ == \"__main__\":\n",
    "    to_phone_number = input(\"Enter the recipient's phone number: \")\n",
    "    live_url = \"http://your_server_ip:5000/video_feed\"\n",
    "    message = f\"Join our live stream at: {live_url}\"\n",
    "    sms_sid = send_sms(to_phone_number, message)\n",
    "    print(f\"SMS sent with SID: {sms_sid}\")\n"
   ]
  },
  {
   "cell_type": "code",
   "execution_count": 4,
   "metadata": {},
   "outputs": [
    {
     "ename": "FileNotFoundError",
     "evalue": "[WinError 3] The system cannot find the path specified: '/Pythonn'",
     "output_type": "error",
     "traceback": [
      "\u001b[1;31m---------------------------------------------------------------------------\u001b[0m",
      "\u001b[1;31mFileNotFoundError\u001b[0m                         Traceback (most recent call last)",
      "Cell \u001b[1;32mIn[4], line 21\u001b[0m\n\u001b[0;32m     18\u001b[0m image_folder \u001b[38;5;241m=\u001b[39m \u001b[38;5;124m'\u001b[39m\u001b[38;5;124m/Pythonn\u001b[39m\u001b[38;5;124m'\u001b[39m\n\u001b[0;32m     19\u001b[0m output_video \u001b[38;5;241m=\u001b[39m \u001b[38;5;124m'\u001b[39m\u001b[38;5;124moutput_video.mp4\u001b[39m\u001b[38;5;124m'\u001b[39m\n\u001b[1;32m---> 21\u001b[0m \u001b[43mimages_to_video\u001b[49m\u001b[43m(\u001b[49m\u001b[43mimage_folder\u001b[49m\u001b[43m,\u001b[49m\u001b[43m \u001b[49m\u001b[43moutput_video\u001b[49m\u001b[43m)\u001b[49m\n",
      "Cell \u001b[1;32mIn[4], line 5\u001b[0m, in \u001b[0;36mimages_to_video\u001b[1;34m(image_folder, output_video)\u001b[0m\n\u001b[0;32m      4\u001b[0m \u001b[38;5;28;01mdef\u001b[39;00m \u001b[38;5;21mimages_to_video\u001b[39m(image_folder, output_video):\n\u001b[1;32m----> 5\u001b[0m     images \u001b[38;5;241m=\u001b[39m [img \u001b[38;5;28;01mfor\u001b[39;00m img \u001b[38;5;129;01min\u001b[39;00m \u001b[43mos\u001b[49m\u001b[38;5;241;43m.\u001b[39;49m\u001b[43mlistdir\u001b[49m\u001b[43m(\u001b[49m\u001b[43mimage_folder\u001b[49m\u001b[43m)\u001b[49m \u001b[38;5;28;01mif\u001b[39;00m img\u001b[38;5;241m.\u001b[39mendswith(\u001b[38;5;124m\"\u001b[39m\u001b[38;5;124m.jpg\u001b[39m\u001b[38;5;124m\"\u001b[39m)]\n\u001b[0;32m      6\u001b[0m     frame \u001b[38;5;241m=\u001b[39m cv2\u001b[38;5;241m.\u001b[39mimread(os\u001b[38;5;241m.\u001b[39mpath\u001b[38;5;241m.\u001b[39mjoin(image_folder, images[\u001b[38;5;241m0\u001b[39m]))\n\u001b[0;32m      7\u001b[0m     height, width, layers \u001b[38;5;241m=\u001b[39m frame\u001b[38;5;241m.\u001b[39mshape\n",
      "\u001b[1;31mFileNotFoundError\u001b[0m: [WinError 3] The system cannot find the path specified: '/Pythonn'"
     ]
    }
   ],
   "source": [
    "import cv2\n",
    "import os\n",
    "\n",
    "def images_to_video(image_folder, output_video):\n",
    "    images = [img for img in os.listdir(image_folder) if img.endswith(\".jpg\")]\n",
    "    frame = cv2.imread(os.path.join(image_folder, images[0]))\n",
    "    height, width, layers = frame.shape\n",
    "\n",
    "    video = cv2.VideoWriter(output_video, cv2.VideoWriter_fourcc(*'mp4v'), 1, (width,height))\n",
    "\n",
    "    for image in images:\n",
    "        video.write(cv2.imread(os.path.join(image_folder, image)))\n",
    "\n",
    "    cv2.destroyAllWindows()\n",
    "    video.release()\n",
    "\n",
    "# Example usage\n",
    "image_folder = '/Pythonn'\n",
    "output_video = 'output_video.mp4'\n",
    "\n",
    "images_to_video(image_folder, output_video)\n"
   ]
  },
  {
   "cell_type": "code",
   "execution_count": 6,
   "metadata": {},
   "outputs": [
    {
     "name": "stdout",
     "output_type": "stream",
     "text": [
      "Failed to send message to Bhavesh trivedi (+91 84459 48244): No module named 'twilio.rest.api.v2010.account.sip.domain.auth_types.auth_type_registrations.auth_registrations_credential_list_mapping'\n",
      "Failed to send message to Md Mushahid (+919785006930): No module named 'twilio.rest.api.v2010.account.sip.domain.auth_types.auth_type_registrations.auth_registrations_credential_list_mapping'\n",
      "Failed to send message to Nikhil Garhwal (+91 84459 48244): No module named 'twilio.rest.api.v2010.account.sip.domain.auth_types.auth_type_registrations.auth_registrations_credential_list_mapping'\n",
      "Failed to send message to Abhishek giri (+919785006930): No module named 'twilio.rest.api.v2010.account.sip.domain.auth_types.auth_type_registrations.auth_registrations_credential_list_mapping'\n",
      "Failed to send message to Manthan Rudra (+91 84459 48244): No module named 'twilio.rest.api.v2010.account.sip.domain.auth_types.auth_type_registrations.auth_registrations_credential_list_mapping'\n",
      "Failed to send message to Sahil verma (+91 84459 48244): No module named 'twilio.rest.api.v2010.account.sip.domain.auth_types.auth_type_registrations.auth_registrations_credential_list_mapping'\n",
      "Failed to send message to Anshul mathur (+919785006930): No module named 'twilio.rest.api.v2010.account.sip.domain.auth_types.auth_type_registrations.auth_registrations_credential_list_mapping'\n",
      "Failed to send message to Pranav jain (+91 84459 48244): No module named 'twilio.rest.api.v2010.account.sip.domain.auth_types.auth_type_registrations.auth_registrations_credential_list_mapping'\n",
      "Failed to send message to Araman Anshari (+919785006930): No module named 'twilio.rest.api.v2010.account.sip.domain.auth_types.auth_type_registrations.auth_registrations_credential_list_mapping'\n",
      "Failed to send message to Ritesh Shani (+919785006930): No module named 'twilio.rest.api.v2010.account.sip.domain.auth_types.auth_type_registrations.auth_registrations_credential_list_mapping'\n",
      "Failed to send message to Rahul Wankhade (+91 84459 48244): No module named 'twilio.rest.api.v2010.account.sip.domain.auth_types.auth_type_registrations.auth_registrations_credential_list_mapping'\n"
     ]
    }
   ],
   "source": []
  },
  {
   "cell_type": "code",
   "execution_count": 7,
   "metadata": {},
   "outputs": [
    {
     "name": "stdout",
     "output_type": "stream",
     "text": [
      "Failed to send message to Bhavesh trivedi (+91 84459 48244): No module named 'twilio.rest.api.v2010.account.sip.domain.auth_types.auth_type_registrations.auth_registrations_credential_list_mapping'\n",
      "Failed to send message to Md Mushahid (+919785006930): No module named 'twilio.rest.api.v2010.account.sip.domain.auth_types.auth_type_registrations.auth_registrations_credential_list_mapping'\n",
      "Failed to send message to Nikhil Garhwal (+91 84459 48244): No module named 'twilio.rest.api.v2010.account.sip.domain.auth_types.auth_type_registrations.auth_registrations_credential_list_mapping'\n",
      "Failed to send message to Abhishek giri (+919785006930): No module named 'twilio.rest.api.v2010.account.sip.domain.auth_types.auth_type_registrations.auth_registrations_credential_list_mapping'\n",
      "Failed to send message to Manthan Rudra (+91 84459 48244): No module named 'twilio.rest.api.v2010.account.sip.domain.auth_types.auth_type_registrations.auth_registrations_credential_list_mapping'\n",
      "Failed to send message to Sahil verma (+91 84459 48244): No module named 'twilio.rest.api.v2010.account.sip.domain.auth_types.auth_type_registrations.auth_registrations_credential_list_mapping'\n",
      "Failed to send message to Anshul mathur (+919785006930): No module named 'twilio.rest.api.v2010.account.sip.domain.auth_types.auth_type_registrations.auth_registrations_credential_list_mapping'\n",
      "Failed to send message to Pranav jain (+91 84459 48244): No module named 'twilio.rest.api.v2010.account.sip.domain.auth_types.auth_type_registrations.auth_registrations_credential_list_mapping'\n",
      "Failed to send message to Araman Anshari (+919785006930): No module named 'twilio.rest.api.v2010.account.sip.domain.auth_types.auth_type_registrations.auth_registrations_credential_list_mapping'\n",
      "Failed to send message to Ritesh Shani (+919785006930): No module named 'twilio.rest.api.v2010.account.sip.domain.auth_types.auth_type_registrations.auth_registrations_credential_list_mapping'\n",
      "Failed to send message to Rahul Wankhade (+91 84459 48244): No module named 'twilio.rest.api.v2010.account.sip.domain.auth_types.auth_type_registrations.auth_registrations_credential_list_mapping'\n"
     ]
    }
   ],
   "source": [
    "from twilio.rest import Client\n",
    "\n",
    "account_sid = 'AC9d7cf318a1c101e8cbd511ab25060c7a'\n",
    "auth_token = 'd126f4896c906ac6760be5e573b4d615'\n",
    "\n",
    "twilio_num = '++17079690945'\n",
    "my_phone_no = '+919785006930'\n",
    "\n",
    "# Initialize the Twilio client\n",
    "client = Client(account_sid, auth_token)\n",
    "\n",
    "# Data (reformatted for ease of use)\n",
    "data = [\n",
    "            {\"name\": \"Vishal singh\", \"city\": \"Jaipur\", \"college\": \"SKIT, Jaipur\", \"ph_no\": \"+919785006930\", \"aim_of_life\": \"devops engineer\"},\n",
    "            {\"name\": \"Bhavesh trivedi\", \"city\": \"Kota\", \"college\": \"Manipal\", \"ph_no\": \"+91 84459 48244\", \"aim_of_life\": \"prompt engineer\"},\n",
    "            {\"name\": \"Md Mushahid\", \"city\": \"Dhanbad\", \"college\": \"BCR\", \"ph_no\": \"+919785006930\", \"aim_of_life\": \"software engineer\"},\n",
    "            {\"name\": \"Nikhil Garhwal\", \"city\": \"Sikar\", \"college\": \"SIET\", \"ph_no\": \"+91 84459 48244\", \"aim_of_life\": \"entrepreneur\"},\n",
    "            {\"name\": \"Abhishek giri\", \"city\": \"Lucknow\", \"college\": \"AKTU\", \"ph_no\": \"+919785006930\", \"aim_of_life\": \"Software engineer\"},\n",
    "            {\"name\": \"Manthan Rudra\", \"city\": \"Amravati\", \"college\": \"BRMIT\", \"ph_no\": \"+91 84459 48244\", \"aim_of_life\": \"cloud engineer\"},\n",
    "            {\"name\": \"Yugal Singh\", \"city\": \"Jaipur\", \"college\": \"ISIM\", \"ph_no\": \"+919785006930\", \"aim_of_life\": \"linux engineer\"},\n",
    "            {\"name\": \"Sahil verma\", \"city\": \"Bhiwani\", \"college\": \"AMITY\", \"ph_no\": \"+91 84459 48244\", \"aim_of_life\": \"prompt engineer\"},\n",
    "            {\"name\": \"Abhinav Agarwal\", \"city\": \"Jaipur\", \"college\": \"Manipal\", \"ph_no\": \"+919785006930\", \"aim_of_life\": \"Software engineer\"},\n",
    "            {\"name\": \"Harshita Sharma\", \"city\": \"Jaipur\", \"college\": \"amity\", \"ph_no\": \"+91 84459 48244\", \"aim_of_life\": \"devops engineer\"},\n",
    "            {\"name\": \"Anshul mathur\", \"city\": \"jodhpur\", \"college\": \"SPSU\", \"ph_no\": \"+919785006930\", \"aim_of_life\": \"entrepreneur\"},\n",
    "            {\"name\": \"Pranav jain\", \"city\": \"jaspur\", \"college\": \"GLA\", \"ph_no\": \"+91 84459 48244\", \"aim_of_life\": \"Devops engineer\"},\n",
    "            {\"name\": \"Araman Anshari\", \"city\": \"Kota\", \"college\": \"RTU\", \"ph_no\": \"+919785006930\", \"aim_of_life\": \"Software engineer\"},\n",
    "            {\"name\": \"Anil pooniya\", \"city\": \"Jaipur\", \"college\": \"SKIT\", \"ph_no\": \"+91 84459 48244\", \"aim_of_life\": \"prompt engineer\"},\n",
    "            {\"name\": \"Ritesh Shani\", \"city\": \"Raipur\", \"college\": \"KU\", \"ph_no\": \"+919785006930\", \"aim_of_life\": \"Software engineer\"},\n",
    "            {\"name\": \"Krish yadav\", \"city\": \"Jaipur\", \"college\": \"SKIT\", \"ph_no\": \"+91 84459 48244\", \"aim_of_life\": \"Prompt engineer\"},\n",
    "            {\"name\": \"Sanjeev Ranjan\", \"city\": \"Jaipur\", \"college\": \"PIET\", \"ph_no\": \"+919785006930\", \"aim_of_life\": \"to die\"},\n",
    "            {\"name\": \"Rahul Wankhade\", \"city\": \"Nagpur\", \"college\": \"GCEK\", \"ph_no\": \"+91 84459 48244\", \"aim_of_life\": \"data analyst\"}\n",
    "        ];\n",
    "\n",
    "# Filter contacts who do not belong to Jaipur\n",
    "non_jaipur_contacts = [contact for contact in data if contact[\"city\"].lower() != \"jaipur\"]\n",
    "\n",
    "# Message to be sent\n",
    "message_text = \"Welcome to Pink City, Jaipur\"\n",
    "\n",
    "# Send SMS to each contact\n",
    "for contact in non_jaipur_contacts:\n",
    "    phone_number = contact[\"ph_no\"]\n",
    "    try:\n",
    "        message = client.messages.create(\n",
    "            body=message_text,\n",
    "            from_=twilio_num,\n",
    "            to=phone_number\n",
    "        )\n",
    "        print(f\"Message sent to {contact['name']} ({phone_number})\")\n",
    "    except Exception as e:\n",
    "        print(f\"Failed to send message to {contact['name']} ({phone_number}): {e}\")\n"
   ]
  },
  {
   "cell_type": "markdown",
   "metadata": {},
   "source": [
    "Retrieve top 5 Google search results and mail it using python code.\n"
   ]
  },
  {
   "cell_type": "code",
   "execution_count": 28,
   "metadata": {},
   "outputs": [
    {
     "name": "stdout",
     "output_type": "stream",
     "text": [
      "https://www.w3schools.com/html/\n",
      "https://en.wikipedia.org/wiki/HTML\n",
      "https://html.com/\n",
      "https://developer.mozilla.org/en-US/docs/Web/HTML\n",
      "https://www.w3schools.com/\n",
      "https://www.geeksforgeeks.org/html-tutorial/\n",
      "https://html.spec.whatwg.org/\n",
      "https://html.spec.whatwg.org/multipage/\n",
      "https://html.spec.whatwg.org/multipage/introduction.html\n",
      "https://html.spec.whatwg.org/multipage/syntax.html\n",
      "https://www.w3schools.com/html/\n",
      "https://en.wikipedia.org/wiki/HTML\n",
      "https://html.com/\n",
      "https://developer.mozilla.org/en-US/docs/Web/HTML\n",
      "https://www.w3schools.com/\n",
      "https://www.geeksforgeeks.org/html-tutorial/\n",
      "https://html.spec.whatwg.org/\n",
      "https://html.spec.whatwg.org/multipage/\n",
      "https://html.spec.whatwg.org/multipage/introduction.html\n",
      "https://html.spec.whatwg.org/multipage/syntax.html\n"
     ]
    },
    {
     "ename": "SMTPRecipientsRefused",
     "evalue": "{'': (555, b'5.5.2 Syntax error, cannot decode response. For more information, go to\\n5.5.2  https://support.google.com/a/answer/3221692 and review RFC 5321\\n5.5.2 specifications. d2e1a72fcca58-70b1f132eb3sm1902445b3a.79 - gsmtp')}",
     "output_type": "error",
     "traceback": [
      "\u001b[1;31m---------------------------------------------------------------------------\u001b[0m",
      "\u001b[1;31mSMTPRecipientsRefused\u001b[0m                     Traceback (most recent call last)",
      "Cell \u001b[1;32mIn[28], line 22\u001b[0m\n\u001b[0;32m     18\u001b[0m server\u001b[38;5;241m.\u001b[39mstarttls()\n\u001b[0;32m     20\u001b[0m server\u001b[38;5;241m.\u001b[39mlogin(\u001b[38;5;124m'\u001b[39m\u001b[38;5;124mparv23155@gmail.com\u001b[39m\u001b[38;5;124m'\u001b[39m,\u001b[38;5;124m'\u001b[39m\u001b[38;5;124mdckg ueoc wmsz vidg\u001b[39m\u001b[38;5;124m'\u001b[39m)\n\u001b[1;32m---> 22\u001b[0m \u001b[43mserver\u001b[49m\u001b[38;5;241;43m.\u001b[39;49m\u001b[43msendmail\u001b[49m\u001b[43m(\u001b[49m\u001b[38;5;124;43m'\u001b[39;49m\u001b[38;5;124;43mparv23155@gmail.com\u001b[39;49m\u001b[38;5;124;43m'\u001b[39;49m\u001b[43m,\u001b[49m\u001b[43mrecipient_email\u001b[49m\u001b[43m,\u001b[49m\u001b[43m \u001b[49m\u001b[43memail_body\u001b[49m\u001b[43m)\u001b[49m\n\u001b[0;32m     24\u001b[0m \u001b[38;5;28mprint\u001b[39m(\u001b[38;5;124m'\u001b[39m\u001b[38;5;124mmail sent\u001b[39m\u001b[38;5;124m'\u001b[39m)\n",
      "File \u001b[1;32mC:\\Program Files\\WindowsApps\\PythonSoftwareFoundation.Python.3.12_3.12.1264.0_x64__qbz5n2kfra8p0\\Lib\\smtplib.py:890\u001b[0m, in \u001b[0;36mSMTP.sendmail\u001b[1;34m(self, from_addr, to_addrs, msg, mail_options, rcpt_options)\u001b[0m\n\u001b[0;32m    887\u001b[0m \u001b[38;5;28;01mif\u001b[39;00m \u001b[38;5;28mlen\u001b[39m(senderrs) \u001b[38;5;241m==\u001b[39m \u001b[38;5;28mlen\u001b[39m(to_addrs):\n\u001b[0;32m    888\u001b[0m     \u001b[38;5;66;03m# the server refused all our recipients\u001b[39;00m\n\u001b[0;32m    889\u001b[0m     \u001b[38;5;28mself\u001b[39m\u001b[38;5;241m.\u001b[39m_rset()\n\u001b[1;32m--> 890\u001b[0m     \u001b[38;5;28;01mraise\u001b[39;00m SMTPRecipientsRefused(senderrs)\n\u001b[0;32m    891\u001b[0m (code, resp) \u001b[38;5;241m=\u001b[39m \u001b[38;5;28mself\u001b[39m\u001b[38;5;241m.\u001b[39mdata(msg)\n\u001b[0;32m    892\u001b[0m \u001b[38;5;28;01mif\u001b[39;00m code \u001b[38;5;241m!=\u001b[39m \u001b[38;5;241m250\u001b[39m:\n",
      "\u001b[1;31mSMTPRecipientsRefused\u001b[0m: {'': (555, b'5.5.2 Syntax error, cannot decode response. For more information, go to\\n5.5.2  https://support.google.com/a/answer/3221692 and review RFC 5321\\n5.5.2 specifications. d2e1a72fcca58-70b1f132eb3sm1902445b3a.79 - gsmtp')}"
     ]
    }
   ],
   "source": [
    "\n",
    "from googlesearch import search\n",
    "import smtplib\n",
    " \n",
    "# to search\n",
    "query = \"html\"\n",
    "l = []\n",
    "for j in search(query, tld=\"co.in\", num=10, stop=10, pause=2):\n",
    "    print(j)\n",
    "    l.append(j)\n",
    "\n",
    "\n",
    "email_body = '\\n'.join(l)\n",
    "print(email_body)\n",
    "recipient_email = input(\"Enter the reciepeient mail:\")\n",
    "\n",
    "server = smtplib.SMTP('smtp.gmail.com',587)\n",
    "\n",
    "server.starttls()\n",
    "\n",
    "server.login('parv23155@gmail.com','dckg ueoc wmsz vidg')\n",
    "\n",
    "server.sendmail('parv23155@gmail.com',recipient_email, email_body)\n",
    "\n",
    "print('mail sent')"
   ]
  },
  {
   "cell_type": "code",
   "execution_count": null,
   "metadata": {},
   "outputs": [],
   "source": [
    "Team-21: Which is the correct ip address ? If yes  select (one or more ) \n",
    "\n",
    "111111111.   192.168.0.1\n",
    "2.  192.168.1245\n",
    "3.  192.15432\n",
    "4.  1926895\n",
    "5.  None of the above\n"
   ]
  },
  {
   "cell_type": "code",
   "execution_count": 13,
   "metadata": {},
   "outputs": [
    {
     "name": "stdout",
     "output_type": "stream",
     "text": [
      "Email sent successfully\n"
     ]
    }
   ],
   "source": [
    "import smtplib\n",
    "from email.message import EmailMessage\n",
    "import os\n",
    "sender_email = 'parv23155@gmail.com'\n",
    "sender_password = \"dckg ueoc wmsz vidg \"\n",
    "recipient_email = 'parvagarwal73@gmail.com'\n",
    "subject = input(\"Enter the subject: \")\n",
    "body = input(\"Enter the body: \")\n",
    "msg = EmailMessage()\n",
    "msg['From'] = sender_email\n",
    "msg['To'] = recipient_email\n",
    "msg['Subject'] = subject\n",
    "msg.set_content(body)\n",
    "server = smtplib.SMTP('smtp.gmail.com', 587)\n",
    "server.starttls()\n",
    "server.login(sender_email, sender_password)\n",
    "server.send_message(msg)\n",
    "server.quit()\n",
    "print(\"Email sent successfully\")"
   ]
  },
  {
   "cell_type": "code",
   "execution_count": 1,
   "metadata": {},
   "outputs": [
    {
     "name": "stdout",
     "output_type": "stream",
     "text": [
      "CSV file 'data.csv' has been successfully created.\n"
     ]
    }
   ],
   "source": [
    "import csv\n",
    "\n",
    "data = [\n",
    "    [\"Vishal Singh\", \"Jaipur\", \"SKIT, Jaipur\", \"9636575691\", \"devops engineer\"],\n",
    "    [\"Bhavesh Trivedi\", \"Kota\", \"Manipal\", \"8875364339\", \"prompt engineer\"],\n",
    "    [\"Md Mushahid\", \"Dhanbad\", \"BCR\", \"9693251345\", \"software engineer\"],\n",
    "    [\"Nikhil Garhwal\", \"Sikar\", \"SIET\", \"800706380\", \"entrepreneur\"],\n",
    "    [\"Abhishek Giri\", \"Lucknow\", \"AKTU\", \"6307920537\", \"Software engineer\"],\n",
    "    [\"Manthan Rudra\", \"Amravati\", \"BRMIT\", \"9404902644\", \"cloud engineer\"],\n",
    "    [\"Yugal Singh\", \"Jaipur\", \"ISIM\", \"7976527610\", \"linux engineer\"],\n",
    "    [\"Sahil Verma\", \"Bhiwani\", \"AMITY\", \"9518157511\", \"prompt engineer\"],\n",
    "    [\"Abhinav Agarwal\", \"Jaipur\", \"Manipal\", \"8000499522\", \"Software engineer\"],\n",
    "    [\"Harshita Sharma\", \"Jaipur\", \"amity\", \"9351529233\", \"devops engineer\"],\n",
    "    [\"Anshul Mathur\", \"Jodhpur\", \"SPSU\", \"9636274630\", \"entrepreneur\"],\n",
    "    [\"Pranav Jain\", \"Jaspur\", \"GLA\", \"9410780293\", \"Devops engineer\"],\n",
    "    [\"Araman Anshari\", \"Kota\", \"RTU\", \"8306754589\", \"Software engineer\"],\n",
    "    [\"Anil Pooniya\", \"Jaipur\", \"SKIT\", \"6376036737\", \"prompt engineer\"],\n",
    "    [\"Ritesh Shani\", \"Raipur\", \"KU\", \"8434568290\", \"Software engineer\"],\n",
    "    [\"Krish Yadav\", \"Jaipur\", \"SKIT\", \"7357689192\", \"Prompt engineer\"],\n",
    "    [\"Sanjeev Ranjan\", \"Jaipur\", \"PIET\", \"7627095913\", \"to die\"],\n",
    "    [\"Rahul Wankhade\", \"Nagpur\", \"GCEK\", \"9359733858\", \"data analyst\"],\n",
    "]\n",
    "\n",
    "# Writing to CSV file\n",
    "csv_filename = \"data.csv\"\n",
    "\n",
    "with open(csv_filename, mode='w', newline='') as file:\n",
    "    writer = csv.writer(file)\n",
    "    writer.writerow(['Name', 'City', 'College', 'Phone', 'Occupation'])\n",
    "    writer.writerows(data)\n",
    "\n",
    "print(f\"CSV file '{csv_filename}' has been successfully created.\")\n"
   ]
  },
  {
   "cell_type": "code",
   "execution_count": null,
   "metadata": {},
   "outputs": [],
   "source": []
  },
  {
   "cell_type": "markdown",
   "metadata": {},
   "source": [
    "CVZONE\n"
   ]
  },
  {
   "cell_type": "code",
   "execution_count": 2,
   "metadata": {},
   "outputs": [],
   "source": [
    "import cv2 \n",
    "\n",
    "cap = cv2.VideoCapture(0)\n",
    "status, photo = cap.read()"
   ]
  },
  {
   "cell_type": "code",
   "execution_count": 3,
   "metadata": {},
   "outputs": [],
   "source": [
    "\n",
    "cv2.imshow('photo', photo)\n",
    "cv2.waitKey(5000)\n",
    "cv2.destroyAllWindows()"
   ]
  },
  {
   "cell_type": "code",
   "execution_count": 14,
   "metadata": {},
   "outputs": [],
   "source": [
    "cap.release()"
   ]
  },
  {
   "cell_type": "code",
   "execution_count": 4,
   "metadata": {},
   "outputs": [],
   "source": []
  },
  {
   "cell_type": "code",
   "execution_count": 5,
   "metadata": {},
   "outputs": [],
   "source": [
    "from cvzone.HandTrackingModule import HandDetector\n",
    "\n",
    "detector = HandDetector()\n",
    "lmlist = detector.findHands(photo)\n",
    "finger = detector.fingersUp(hands)"
   ]
  },
  {
   "cell_type": "code",
   "execution_count": 10,
   "metadata": {},
   "outputs": [
    {
     "ename": "IndexError",
     "evalue": "list index out of range",
     "output_type": "error",
     "traceback": [
      "\u001b[1;31m---------------------------------------------------------------------------\u001b[0m",
      "\u001b[1;31mIndexError\u001b[0m                                Traceback (most recent call last)",
      "Cell \u001b[1;32mIn[10], line 1\u001b[0m\n\u001b[1;32m----> 1\u001b[0m hands \u001b[38;5;241m=\u001b[39m \u001b[43mlmlist\u001b[49m\u001b[43m[\u001b[49m\u001b[38;5;241;43m0\u001b[39;49m\u001b[43m]\u001b[49m\u001b[43m[\u001b[49m\u001b[38;5;241;43m0\u001b[39;49m\u001b[43m]\u001b[49m\n",
      "\u001b[1;31mIndexError\u001b[0m: list index out of range"
     ]
    }
   ],
   "source": [
    "\n",
    "hands = lmlist[0][0]"
   ]
  },
  {
   "cell_type": "code",
   "execution_count": 6,
   "metadata": {},
   "outputs": [
    {
     "ename": "NameError",
     "evalue": "name 'hands' is not defined",
     "output_type": "error",
     "traceback": [
      "\u001b[1;31m---------------------------------------------------------------------------\u001b[0m",
      "\u001b[1;31mNameError\u001b[0m                                 Traceback (most recent call last)",
      "Cell \u001b[1;32mIn[6], line 1\u001b[0m\n\u001b[1;32m----> 1\u001b[0m finger \u001b[38;5;241m=\u001b[39m detector\u001b[38;5;241m.\u001b[39mfingersUp(\u001b[43mhands\u001b[49m)\n",
      "\u001b[1;31mNameError\u001b[0m: name 'hands' is not defined"
     ]
    }
   ],
   "source": [
    "finger = detector.fingersUp(hands)"
   ]
  },
  {
   "cell_type": "code",
   "execution_count": 1,
   "metadata": {},
   "outputs": [
    {
     "ename": "NameError",
     "evalue": "name 'cap' is not defined",
     "output_type": "error",
     "traceback": [
      "\u001b[1;31m---------------------------------------------------------------------------\u001b[0m",
      "\u001b[1;31mNameError\u001b[0m                                 Traceback (most recent call last)",
      "Cell \u001b[1;32mIn[1], line 2\u001b[0m\n\u001b[0;32m      1\u001b[0m \u001b[38;5;28;01mimport\u001b[39;00m \u001b[38;5;21;01mos\u001b[39;00m\n\u001b[1;32m----> 2\u001b[0m status , photo \u001b[38;5;241m=\u001b[39m \u001b[43mcap\u001b[49m\u001b[38;5;241m.\u001b[39mread()\n\u001b[0;32m      3\u001b[0m lmlist \u001b[38;5;241m=\u001b[39m detector\u001b[38;5;241m.\u001b[39mfindHands(photo)\n\u001b[0;32m      4\u001b[0m hands \u001b[38;5;241m=\u001b[39m lmlist[\u001b[38;5;241m0\u001b[39m][\u001b[38;5;241m0\u001b[39m]\n",
      "\u001b[1;31mNameError\u001b[0m: name 'cap' is not defined"
     ]
    }
   ],
   "source": [
    "import os\n",
    "status , photo = cap.read()\n",
    "lmlist = detector.findHands(photo)\n",
    "hands = lmlist[0][0]\n",
    "\n",
    "finger = detector.fingersUp(hands)\n",
    "\n",
    "\n",
    "\n"
   ]
  },
  {
   "cell_type": "code",
   "execution_count": 7,
   "metadata": {},
   "outputs": [
    {
     "name": "stdout",
     "output_type": "stream",
     "text": [
      "pygame 2.6.0 (SDL 2.28.4, Python 3.12.4)\n",
      "Hello from the pygame community. https://www.pygame.org/contribute.html\n"
     ]
    },
    {
     "ename": "FileNotFoundError",
     "evalue": "No file 'snare-112754.mp3' found in working directory 'd:\\Coding\\summer_intern\\Pythonn'.",
     "output_type": "error",
     "traceback": [
      "\u001b[1;31m---------------------------------------------------------------------------\u001b[0m",
      "\u001b[1;31mFileNotFoundError\u001b[0m                         Traceback (most recent call last)",
      "Cell \u001b[1;32mIn[7], line 8\u001b[0m\n\u001b[0;32m      6\u001b[0m \u001b[38;5;66;03m# Initialize Pygame mixer for playing sounds\u001b[39;00m\n\u001b[0;32m      7\u001b[0m pygame\u001b[38;5;241m.\u001b[39mmixer\u001b[38;5;241m.\u001b[39minit()\n\u001b[1;32m----> 8\u001b[0m snare \u001b[38;5;241m=\u001b[39m \u001b[43mpygame\u001b[49m\u001b[38;5;241;43m.\u001b[39;49m\u001b[43mmixer\u001b[49m\u001b[38;5;241;43m.\u001b[39;49m\u001b[43mSound\u001b[49m\u001b[43m(\u001b[49m\u001b[38;5;124;43m'\u001b[39;49m\u001b[38;5;124;43msnare-112754.mp3\u001b[39;49m\u001b[38;5;124;43m'\u001b[39;49m\u001b[43m)\u001b[49m\n\u001b[0;32m      9\u001b[0m kick \u001b[38;5;241m=\u001b[39m pygame\u001b[38;5;241m.\u001b[39mmixer\u001b[38;5;241m.\u001b[39mSound(\u001b[38;5;124m'\u001b[39m\u001b[38;5;124mkick-183936.mp3\u001b[39m\u001b[38;5;124m'\u001b[39m)\n\u001b[0;32m     10\u001b[0m hihat \u001b[38;5;241m=\u001b[39m pygame\u001b[38;5;241m.\u001b[39mmixer\u001b[38;5;241m.\u001b[39mSound(\u001b[38;5;124m'\u001b[39m\u001b[38;5;124mbeautiful-hi-hat-102704.mp3\u001b[39m\u001b[38;5;124m'\u001b[39m)\n",
      "\u001b[1;31mFileNotFoundError\u001b[0m: No file 'snare-112754.mp3' found in working directory 'd:\\Coding\\summer_intern\\Pythonn'."
     ]
    }
   ],
   "source": [
    "import cv2\n",
    "import numpy as np\n",
    "import pygame\n",
    "from cvzone.HandTrackingModule import HandDetector\n",
    "\n",
    "# Initialize Pygame mixer for playing sounds\n",
    "pygame.mixer.init()\n",
    "snare = pygame.mixer.Sound('snare-112754.mp3')\n",
    "kick = pygame.mixer.Sound('kick-183936.mp3')\n",
    "hihat = pygame.mixer.Sound('beautiful-hi-hat-102704.mp3')\n",
    "\n",
    "# Initialize video capture and hand detector\n",
    "cap = cv2.VideoCapture(0)\n",
    "cap.set(3, 1280)\n",
    "cap.set(4, 720)\n",
    "detector = HandDetector(detectionCon=0.8, maxHands=2)\n",
    "\n",
    "# Define regions for drum hits\n",
    "regions = {\n",
    "    'snare': ((100, 300), (100, 300)),\n",
    "    'kick': ((400, 600), (400, 600)),\n",
    "    'hihat': ((700, 900), (100, 300))\n",
    "}\n",
    "\n",
    "# Main loop\n",
    "while True:\n",
    "    success, img = cap.read()\n",
    "    img = cv2.flip(img, 1)\n",
    "    hands, img = detector.findHands(img)\n",
    "\n",
    "    if hands:\n",
    "        for hand in hands:\n",
    "            lmList = hand['lmList']\n",
    "            x, y = lmList[8][0], lmList[8][1]\n",
    "            \n",
    "            for region, ((x1, x2), (y1, y2)) in regions.items():\n",
    "                if x1 < x < x2 and y1 < y < y2:\n",
    "                    if region == 'snare':\n",
    "                        snare.play()\n",
    "                    elif region == 'kick':\n",
    "                        kick.play()\n",
    "                    elif region == 'hihat':\n",
    "                        hihat.play()\n",
    "                    \n",
    "                    # Visual feedback\n",
    "                    cv2.rectangle(img, (x1, y1), (x2, y2), (0, 255, 0), cv2.FILLED)\n",
    "\n",
    "    # Draw drum regions\n",
    "    for ((x1, x2), (y1, y2)) in regions.values():\n",
    "        cv2.rectangle(img, (x1, y1), (x2, y2), (255, 0, 0), 2)\n",
    "\n",
    "    cv2.imshow(\"Virtual Drum Kit\", img)\n",
    "    if cv2.waitKey(1) & 0xFF == ord('q'):\n",
    "        break\n",
    "\n",
    "cap.release()\n",
    "cv2.destroyAllWindows()\n",
    "pygame.quit()\n"
   ]
  },
  {
   "cell_type": "code",
   "execution_count": 9,
   "metadata": {},
   "outputs": [
    {
     "name": "stderr",
     "output_type": "stream",
     "text": [
      "C:\\Users\\parva\\AppData\\Local\\Packages\\PythonSoftwareFoundation.Python.3.12_qbz5n2kfra8p0\\LocalCache\\local-packages\\Python312\\site-packages\\google\\protobuf\\symbol_database.py:55: UserWarning: SymbolDatabase.GetPrototype() is deprecated. Please use message_factory.GetMessageClass() instead. SymbolDatabase.GetPrototype() will be removed soon.\n",
      "  warnings.warn('SymbolDatabase.GetPrototype() is deprecated. Please '\n"
     ]
    }
   ],
   "source": [
    "import cv2\n",
    "import numpy as np\n",
    "import pygame\n",
    "from cvzone.HandTrackingModule import HandDetector\n",
    "\n",
    "# Initialize Pygame mixer for playing sounds\n",
    "pygame.mixer.init()\n",
    "snare = pygame.mixer.Sound('sounds/snare-112754.mp3')\n",
    "kick = pygame.mixer.Sound('sounds/kick-183936.mp3')\n",
    "hihat = pygame.mixer.Sound('sounds/beautiful-hi-hat-102704.mp3')\n",
    "\n",
    "# Initialize video capture and hand detector\n",
    "cap = cv2.VideoCapture(0)\n",
    "cap.set(3, 1280)\n",
    "cap.set(4, 720)\n",
    "detector = HandDetector(detectionCon=0.8, maxHands=2)\n",
    "\n",
    "# Define regions for drum hits\n",
    "regions = {\n",
    "    'snare': ((100, 300), (100, 300)),\n",
    "    'kick': ((400, 600), (400, 600)),\n",
    "    'hihat': ((700, 900), (100, 300))\n",
    "}\n",
    "\n",
    "# Initialize flags for each region to track if the sound has been played\n",
    "sound_played = {\n",
    "    'snare': False,\n",
    "    'kick': False,\n",
    "    'hihat': False\n",
    "}\n",
    "\n",
    "# Main loop\n",
    "while True:\n",
    "    success, img = cap.read()\n",
    "    img = cv2.flip(img, 1)\n",
    "    hands, img = detector.findHands(img)\n",
    "\n",
    "    if hands:\n",
    "        for hand in hands:\n",
    "            lmList = hand['lmList']\n",
    "            x, y = lmList[8][0], lmList[8][1]\n",
    "            \n",
    "            for region, ((x1, x2), (y1, y2)) in regions.items():\n",
    "                if x1 < x < x2 and y1 < y < y2:\n",
    "                    if not sound_played[region]:\n",
    "                        if region == 'snare':\n",
    "                            snare.play()\n",
    "                        elif region == 'kick':\n",
    "                            kick.play()\n",
    "                        elif region == 'hihat':\n",
    "                            hihat.play()\n",
    "                        sound_played[region] = True\n",
    "                    # Visual feedback\n",
    "                    cv2.rectangle(img, (x1, y1), (x2, y2), (0, 255, 0), cv2.FILLED)\n",
    "                else:\n",
    "                    sound_played[region] = False\n",
    "\n",
    "    # Draw drum regions\n",
    "    for ((x1, x2), (y1, y2)) in regions.values():\n",
    "        cv2.rectangle(img, (x1, y1), (x2, y2), (255, 0, 0), 2)\n",
    "\n",
    "    cv2.imshow(\"Virtual Drum Kit\", img)\n",
    "    if cv2.waitKey(1) & 0xFF == ord('q'):\n",
    "        break\n",
    "\n",
    "cap.release()\n",
    "cv2.destroyAllWindows()\n",
    "pygame.quit()\n"
   ]
  },
  {
   "cell_type": "code",
   "execution_count": 5,
   "metadata": {},
   "outputs": [],
   "source": [
    "import cv2\n",
    "import mediapipe as mp\n",
    "import numpy as np\n",
    "\n",
    "# Initialize the webcam and set it to the first camera (index 0)\n",
    "cap = cv2.VideoCapture(0)\n",
    "\n",
    "# Initialize the MediaPipe pose and drawing classes\n",
    "mp_pose = mp.solutions.pose\n",
    "mp_drawing = mp.solutions.drawing_utils\n",
    "mp_selfie_segmentation = mp.solutions.selfie_segmentation\n",
    "\n",
    "# Initialize the Pose and SelfieSegmentation models\n",
    "pose = mp_pose.Pose(static_image_mode=False,\n",
    "                    model_complexity=1,\n",
    "                    smooth_landmarks=True,\n",
    "                    min_detection_confidence=0.5,\n",
    "                    min_tracking_confidence=0.5)\n",
    "\n",
    "selfie_segmentation = mp_selfie_segmentation.SelfieSegmentation(model_selection=1)\n",
    "\n",
    "# Load the background image and resize it to match the webcam resolution\n",
    "background_image = cv2.imread('bk.jpg')\n",
    "\n",
    "background_image = cv2.resize(background_image, (640, 480))\n",
    "\n",
    "# Loop to continuously get frames from the webcam\n",
    "while True:\n",
    "    # Capture each frame from the webcam\n",
    "    success, img = cap.read()\n",
    "    if not success:\n",
    "        break  # Exit if the frame is not captured successfully\n",
    "\n",
    "    # Convert the BGR image to RGB\n",
    "    img_rgb = cv2.cvtColor(img, cv2.COLOR_BGR2RGB)\n",
    "\n",
    "    # Process the image and detect the pose\n",
    "    results_pose = pose.process(img_rgb)\n",
    "\n",
    "    # Process the image and get the segmentation mask\n",
    "    results_segmentation = selfie_segmentation.process(img_rgb)\n",
    "\n",
    "    # Get the segmentation mask\n",
    "    mask = results_segmentation.segmentation_mask\n",
    "\n",
    "    # Threshold the mask to create a binary mask\n",
    "    condition = mask > 0.5\n",
    "\n",
    "    # Combine the background image and the original image using the mask\n",
    "    output_image = np.where(condition[:, :, None], img, background_image)\n",
    "\n",
    "    # Draw the pose landmarks on the original image (optional)\n",
    "    if results_pose.pose_landmarks:\n",
    "        mp_drawing.draw_landmarks(img, results_pose.pose_landmarks, mp_pose.POSE_CONNECTIONS)\n",
    "\n",
    "    # Display the output image\n",
    "    cv2.imshow(\"Original Image with Pose Landmarks\", img)\n",
    "    cv2.imshow(\"Output Image with Custom Background\", output_image)\n",
    "\n",
    "    # Exit the loop if the 'q' key is pressed\n",
    "    if cv2.waitKey(1) & 0xFF == ord('q'):\n",
    "        break\n",
    "\n",
    "# Release the webcam and close all OpenCV windows\n",
    "cap.release()\n",
    "cv2.destroyAllWindows()\n"
   ]
  },
  {
   "cell_type": "code",
   "execution_count": null,
   "metadata": {},
   "outputs": [],
   "source": []
  }
 ],
 "metadata": {
  "kernelspec": {
   "display_name": "Python 3",
   "language": "python",
   "name": "python3"
  },
  "language_info": {
   "codemirror_mode": {
    "name": "ipython",
    "version": 3
   },
   "file_extension": ".py",
   "mimetype": "text/x-python",
   "name": "python",
   "nbconvert_exporter": "python",
   "pygments_lexer": "ipython3",
   "version": "3.12.4"
  }
 },
 "nbformat": 4,
 "nbformat_minor": 2
}
