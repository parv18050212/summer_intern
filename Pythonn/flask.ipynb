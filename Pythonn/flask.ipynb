{
 "cells": [
  {
   "cell_type": "code",
   "execution_count": 1,
   "metadata": {},
   "outputs": [],
   "source": [
    "import subprocess  as sp\n",
    "\n",
    "from flask import Flask\n",
    "\n",
    "app = Flask(__name__)\n",
    "\n",
    "@app.route(\"/launch/<dckr_image>/<dckr_name>\")\n",
    "def dckr_lnch(dckr_image,dckr_name):\n",
    "\n",
    "    cmd = f\"docker run --name  {dckr_name} -i -t -d {dckr_image}\"\n",
    "    cid = sp.getoutput(cmd)\n",
    "    return f\"docker Lanuched : {cid}\"\n",
    "\n",
    "@app.route(\"/stop/<dckr_name>\")\n",
    "def dckr_stop(dckr_name):\n",
    "    cmd = f\"docker stop {dckr_name} \"\n",
    "    sp.getoutput(cmd)\n",
    "    return \"docker stopped..\"\n",
    "\n",
    "app.run(host = '0.0.0.0',port = '80' )\n"
   ]
  }
 ],
 "metadata": {
  "kernelspec": {
   "display_name": "Python 3",
   "language": "python",
   "name": "python3"
  },
  "language_info": {
   "codemirror_mode": {
    "name": "ipython",
    "version": 3
   },
   "file_extension": ".py",
   "mimetype": "text/x-python",
   "name": "python",
   "nbconvert_exporter": "python",
   "pygments_lexer": "ipython3",
   "version": "3.12.4"
  }
 },
 "nbformat": 4,
 "nbformat_minor": 2
}
