{
 "cells": [
  {
   "cell_type": "code",
   "execution_count": 2,
   "metadata": {},
   "outputs": [],
   "source": [
    "db = [['rahul',1111,'mumbai'],\n",
    "      ['eric',2222,'delhi'],\n",
    "      ['tom',3333,'jaipur'],\n",
    "      ['jack',4444,'jaipur']]\n"
   ]
  },
  {
   "cell_type": "code",
   "execution_count": 3,
   "metadata": {},
   "outputs": [
    {
     "data": {
      "text/plain": [
       "[['rahul', 1111, 'mumbai'],\n",
       " ['eric', 2222, 'delhi'],\n",
       " ['tom', 3333, 'jaipur'],\n",
       " ['jack', 4444, 'jaipur']]"
      ]
     },
     "execution_count": 3,
     "metadata": {},
     "output_type": "execute_result"
    }
   ],
   "source": [
    "db"
   ]
  },
  {
   "cell_type": "code",
   "execution_count": 20,
   "metadata": {},
   "outputs": [
    {
     "data": {
      "text/plain": [
       "array(['1111', '2222', '3333', '4444'], dtype='<U11')"
      ]
     },
     "execution_count": 20,
     "metadata": {},
     "output_type": "execute_result"
    }
   ],
   "source": [
    "import numpy as np \n",
    "db1 = np.array(db)\n",
    "\n",
    "db1[1:3,1:3] \n",
    "db1[: , 1]"
   ]
  },
  {
   "cell_type": "markdown",
   "metadata": {},
   "source": [
    "tasks:\n",
    "\n",
    "1. Python ke through whatsapp krna h  - done\n",
    "2. Python Ke through SMS krna h  - done\n",
    "3. Python ke through kisi mobile number pr call krna h done\n",
    "4. Python ke through E-Mail krna h - done\n",
    "5. Python ke through email ya sms ko schedule krna h  done\n",
    "6. Python ke through insta pr post krna h done\n",
    " \n",
    "7. python ke through x pr retrive krna h \n",
    "8. python ke through laptop ke speaker ke through hello bolega done\n",
    "9. python ke through google search krna h  done\n",
    "10. khud ka apna meeting media setup krna h jaise zoom \n",
    "11. How to read a Ram\n",
    "12. Python apke camere se photo khichegaa aur usko mail krdega done"
   ]
  },
  {
   "cell_type": "markdown",
   "metadata": {},
   "source": [
    "Task 1 - Python ke through whatsapp krna h "
   ]
  },
  {
   "cell_type": "code",
   "execution_count": 10,
   "metadata": {},
   "outputs": [],
   "source": [
    "\n",
    "import pywhatkit\n",
    " \n",
    " \n",
    "pywhatkit.sendwhatmsg_instantly(\"+918840268280\", \n",
    "                      \"hello\")"
   ]
  },
  {
   "cell_type": "markdown",
   "metadata": {},
   "source": [
    "task-2 send mail through python"
   ]
  },
  {
   "cell_type": "code",
   "execution_count": 11,
   "metadata": {},
   "outputs": [
    {
     "name": "stdout",
     "output_type": "stream",
     "text": [
      "mail sent\n"
     ]
    }
   ],
   "source": [
    "import smtplib\n",
    "server = smtplib.SMTP('smtp.gmail.com',587)\n",
    "\n",
    "server.starttls()\n",
    "\n",
    "server.login('parv23155@gmail.com','dckg ueoc wmsz vidg')\n",
    "\n",
    "server.sendmail('parv23155@gmail.com','parvagarwal73@gmail.com', 'hello friend')\n",
    "\n",
    "print('mail sent')\n"
   ]
  },
  {
   "cell_type": "markdown",
   "metadata": {},
   "source": [
    "Task - Schedule mail send using Python"
   ]
  },
  {
   "cell_type": "code",
   "execution_count": 3,
   "metadata": {},
   "outputs": [
    {
     "name": "stdout",
     "output_type": "stream",
     "text": [
      "Successfully sent email message to parvagarwal73@gmail.com:\n"
     ]
    },
    {
     "ename": "KeyboardInterrupt",
     "evalue": "",
     "output_type": "error",
     "traceback": [
      "\u001b[1;31m---------------------------------------------------------------------------\u001b[0m",
      "\u001b[1;31mKeyboardInterrupt\u001b[0m                         Traceback (most recent call last)",
      "Cell \u001b[1;32mIn[3], line 28\u001b[0m\n\u001b[0;32m     26\u001b[0m \u001b[38;5;28;01mwhile\u001b[39;00m \u001b[38;5;28;01mTrue\u001b[39;00m:\n\u001b[0;32m     27\u001b[0m     schedule\u001b[38;5;241m.\u001b[39mrun_pending()\n\u001b[1;32m---> 28\u001b[0m     \u001b[43mtime\u001b[49m\u001b[38;5;241;43m.\u001b[39;49m\u001b[43msleep\u001b[49m\u001b[43m(\u001b[49m\u001b[38;5;241;43m1\u001b[39;49m\u001b[43m)\u001b[49m\n",
      "\u001b[1;31mKeyboardInterrupt\u001b[0m: "
     ]
    }
   ],
   "source": [
    "import smtplib\n",
    "from email.mime.multipart import MIMEMultipart\n",
    "from email.mime.text import MIMEText\n",
    "import schedule\n",
    "import time\n",
    "\n",
    "def send_email():\n",
    "    msg = MIMEMultipart()\n",
    "    msg['From'] = 'parv23155@gmail.com'\n",
    "    msg['To'] = 'parvagarwal73@gmail.com'\n",
    "    msg['Subject'] = 'Scheduled Email'\n",
    "    body = 'This email was sent at a scheduled time.'\n",
    "    msg.attach(MIMEText(body, 'plain'))\n",
    "\n",
    "    server = smtplib.SMTP('smtp.gmail.com',587)\n",
    "\n",
    "    server.starttls()\n",
    "\n",
    "    server.login('parv23155@gmail.com','dckg ueoc wmsz vidg')\n",
    "\n",
    "    server.sendmail('parv23155@gmail.com','parvagarwal73@gmail.com', 'hello friend')\n",
    "\n",
    "    server.quit()\n",
    "    print(\"Successfully sent email message to %s:\" % (msg['To']))\n",
    "schedule.every().day.at(\"09:31\").do(send_email)\n",
    "while True:\n",
    "    schedule.run_pending()\n",
    "    time.sleep(1)"
   ]
  },
  {
   "cell_type": "code",
   "execution_count": 58,
   "metadata": {},
   "outputs": [
    {
     "name": "stdout",
     "output_type": "stream",
     "text": [
      "linux\n",
      "world\n"
     ]
    }
   ],
   "source": [
    "if (print('linux')):\n",
    "    print('linux')\n",
    "else:\n",
    "    print('world')"
   ]
  },
  {
   "cell_type": "markdown",
   "metadata": {},
   "source": [
    "task 3 - How to convert yout text to output into audio output"
   ]
  },
  {
   "cell_type": "code",
   "execution_count": 4,
   "metadata": {},
   "outputs": [],
   "source": [
    "import gtts  \n",
    "from playsound import playsound  \n",
    "t1 = gtts.gTTS(\"Hello numun bhai app kaise ho\")\n",
    "t1.save(\"welcome1.mp3\")   \n",
    "\n"
   ]
  },
  {
   "cell_type": "markdown",
   "metadata": {},
   "source": [
    "task 4 - how to make insta post  using python"
   ]
  },
  {
   "cell_type": "code",
   "execution_count": null,
   "metadata": {},
   "outputs": [],
   "source": [
    "\n",
    "from instabot import Bot\n",
    "bot = Bot()\n",
    "\n",
    "\n",
    "bot.login(username =  \"pytho_n12357\",  password = \"test_user12@\")\n",
    "\n",
    "\n",
    "bot.upload_photo(\"D:\\Coding\\summer_intern\\pic.jpeg\", caption = \"avengers assemble 123\")\n",
    "\n"
   ]
  },
  {
   "cell_type": "markdown",
   "metadata": {},
   "source": [
    "72C4H3ZS372JRR4RYG9LATHB - twilio "
   ]
  },
  {
   "cell_type": "code",
   "execution_count": 89,
   "metadata": {},
   "outputs": [],
   "source": [
    "exp = 10"
   ]
  },
  {
   "cell_type": "markdown",
   "metadata": {},
   "source": [
    "main hr hu aur mere mind me kuch chl rha h ki agar candidate ka exp kam hoga 2 se to job nhi denge otherwise job dedengi"
   ]
  },
  {
   "cell_type": "code",
   "execution_count": 90,
   "metadata": {},
   "outputs": [
    {
     "name": "stdout",
     "output_type": "stream",
     "text": [
      "job\n"
     ]
    }
   ],
   "source": [
    "(exp > 2 or print('no job')) and print('job')"
   ]
  },
  {
   "cell_type": "markdown",
   "metadata": {},
   "source": [
    "or ek lazy operator h or agar true h to vo age ka run ni krega \n",
    "\n",
    "and bhi ek lazy operator h agar and ka pehla statement false h to age ka run ni hoga"
   ]
  },
  {
   "cell_type": "markdown",
   "metadata": {},
   "source": [
    "create a program to detect usb in pc and then click photo and mail automatically  "
   ]
  },
  {
   "cell_type": "code",
   "execution_count": 4,
   "metadata": {},
   "outputs": [
    {
     "name": "stdout",
     "output_type": "stream",
     "text": [
      "USB monitoring started...\n"
     ]
    }
   ],
   "source": [
    "import cv2\n",
    "import smtplib\n",
    "from email.mime.multipart import MIMEMultipart\n",
    "from email.mime.base import MIMEBase\n",
    "from email import encoders\n",
    "from email.mime.image import MIMEImage\n",
    "import pywinusb.hid as hid\n",
    "\n",
    "def send_email(image_path):\n",
    "    sender_email = \"parv23155@gmail.com\"\n",
    "    receiver_email = \"parvagarwal73@gmail.com\"\n",
    "    password = \"dckg ueoc wmsz vidg\"\n",
    "\n",
    "    msg = MIMEMultipart()\n",
    "    msg['From'] = sender_email\n",
    "    msg['To'] = receiver_email\n",
    "    msg['Subject'] = \"USB Detected - Photo Attached\"\n",
    "\n",
    "    with open(image_path, 'rb') as f:\n",
    "        img = MIMEImage(f.read())\n",
    "\n",
    "    msg.attach(img)\n",
    "\n",
    "    try:\n",
    "        server = smtplib.SMTP('smtp.example.com', 587)\n",
    "        server.starttls()\n",
    "        server.login(sender_email, password)\n",
    "        server.sendmail(sender_email, receiver_email, msg.as_string())\n",
    "        server.quit()\n",
    "        print(\"Email sent successfully\")\n",
    "    except Exception as e:\n",
    "        print(f\"Failed to send email: {e}\")\n",
    "\n",
    "def take_photo(image_path):\n",
    "    cam = cv2.VideoCapture(0)\n",
    "    ret, frame = cam.read()\n",
    "    if ret:\n",
    "        cv2.imwrite(image_path, frame)\n",
    "    cam.release()\n",
    "\n",
    "def usb_event_handler(data):\n",
    "    print(\"USB device event detected\")\n",
    "    image_path = \"image.png\"\n",
    "    take_photo(image_path)\n",
    "    send_email(image_path)\n",
    "\n",
    "def start_usb_monitor():\n",
    "    filter = hid.HidDeviceFilter()\n",
    "    devices = filter.get_devices()\n",
    "    \n",
    "    for device in devices:\n",
    "        device.open()\n",
    "        device.set_raw_data_handler(usb_event_handler)\n",
    "\n",
    "    print(\"USB monitoring started...\")\n",
    "    try:\n",
    "        while True:\n",
    "            pass\n",
    "    except KeyboardInterrupt:\n",
    "        for device in devices:\n",
    "            device.close()\n",
    "\n",
    "if __name__ == \"__main__\":\n",
    "    start_usb_monitor()\n"
   ]
  },
  {
   "cell_type": "markdown",
   "metadata": {},
   "source": [
    "task - Python ke through google search\n"
   ]
  },
  {
   "cell_type": "code",
   "execution_count": 2,
   "metadata": {},
   "outputs": [
    {
     "name": "stdout",
     "output_type": "stream",
     "text": [
      "https://www.w3schools.com/html/\n",
      "https://en.wikipedia.org/wiki/HTML\n",
      "https://developer.mozilla.org/en-US/docs/Web/HTML\n",
      "https://html.com/\n",
      "https://www.geeksforgeeks.org/html-tutorial/\n",
      "https://www.w3schools.com/\n",
      "https://www.w3schools.com/html/html_quiz.asp\n",
      "https://www.w3schools.com/html/html_exercises.asp\n",
      "https://www.w3schools.com/graphics/\n",
      "https://html.spec.whatwg.org/\n"
     ]
    }
   ],
   "source": [
    "\n",
    "\n",
    "try:\n",
    "    from googlesearch import search\n",
    "except ImportError: \n",
    "    print(\"No module named 'google' found\")\n",
    " \n",
    "# to search\n",
    "query = \"html\"\n",
    " \n",
    "for j in search(query, tld=\"co.in\", num=10, stop=10, pause=2):\n",
    "    print(j)"
   ]
  },
  {
   "cell_type": "markdown",
   "metadata": {},
   "source": [
    "task - Python ke through photo lekr mail"
   ]
  },
  {
   "cell_type": "code",
   "execution_count": 4,
   "metadata": {},
   "outputs": [
    {
     "data": {
      "text/plain": [
       "(221,\n",
       " b'2.0.0 closing connection d9443c01a7336-1fac1568f43sm122076495ad.187 - gsmtp')"
      ]
     },
     "execution_count": 4,
     "metadata": {},
     "output_type": "execute_result"
    }
   ],
   "source": [
    "import cv2\n",
    "\n",
    "camera = cv2.VideoCapture(0)\n",
    "\n",
    "for i in range(1):\n",
    "   return_value, image = camera.read()\n",
    "   cv2.imwrite('puppy'+str(i)+'.png', image)\n",
    "\n",
    "del(camera)\n",
    "\n",
    "\n",
    "\n",
    "\n",
    "import smtplib\n",
    "from email.mime.multipart import MIMEMultipart\n",
    "from email.mime.text import MIMEText\n",
    "from email.mime.base import MIMEBase\n",
    "from email import encoders\n",
    "import time\n",
    "\n",
    "\n",
    "\n",
    "\n",
    "\n",
    "time.sleep(8)\n",
    "\n",
    "fromaddr = \"parv23155@gmail.com\"\n",
    "toaddr = \"niharikasha03@gmail.com\"\n",
    "\n",
    "msg = MIMEMultipart()\n",
    "\n",
    "msg['From'] = fromaddr\n",
    "msg['To'] = toaddr\n",
    "msg['Subject'] = \"\"\n",
    "\n",
    "body = \"Test mail\"\n",
    "\n",
    "msg.attach(MIMEText(body, 'plain'))\n",
    "\n",
    "filename = \"puppy0.png\"\n",
    "attachment = open(\"puppy0.png\",\"rb\")\n",
    "\n",
    "part = MIMEBase('application', 'octet-stream')\n",
    "part.set_payload((attachment).read())\n",
    "encoders.encode_base64(part)\n",
    "part.add_header('Content-Disposition', \"attachment; filename= %s\" % filename)\n",
    "\n",
    "msg.attach(part)\n",
    "\n",
    "server = smtplib.SMTP('smtp.gmail.com', 587)\n",
    "server.starttls()\n",
    "server.login(fromaddr, \"dckg ueoc wmsz vidg\")\n",
    "text = msg.as_string()\n",
    "server.sendmail(fromaddr, toaddr, text)\n",
    "server.quit()"
   ]
  },
  {
   "cell_type": "code",
   "execution_count": null,
   "metadata": {},
   "outputs": [],
   "source": []
  }
 ],
 "metadata": {
  "kernelspec": {
   "display_name": "Python 3",
   "language": "python",
   "name": "python3"
  },
  "language_info": {
   "codemirror_mode": {
    "name": "ipython",
    "version": 3
   },
   "file_extension": ".py",
   "mimetype": "text/x-python",
   "name": "python",
   "nbconvert_exporter": "python",
   "pygments_lexer": "ipython3",
   "version": "3.12.4"
  }
 },
 "nbformat": 4,
 "nbformat_minor": 2
}
