{
 "cells": [
  {
   "cell_type": "code",
   "execution_count": 1,
   "metadata": {},
   "outputs": [],
   "source": [
    "import cv2\n",
    "\n",
    "\n",
    "cap = cv2.VideoCapture(0)\n",
    "status , photo = cap.read()"
   ]
  },
  {
   "cell_type": "code",
   "execution_count": 2,
   "metadata": {},
   "outputs": [
    {
     "data": {
      "text/plain": [
       "True"
      ]
     },
     "execution_count": 2,
     "metadata": {},
     "output_type": "execute_result"
    }
   ],
   "source": [
    "cv2.imwrite('parv.png',photo)"
   ]
  },
  {
   "cell_type": "code",
   "execution_count": 5,
   "metadata": {},
   "outputs": [],
   "source": [
    "cap.release()"
   ]
  },
  {
   "cell_type": "code",
   "execution_count": 66,
   "metadata": {},
   "outputs": [],
   "source": [
    "cv2.imshow('parv photo',photo[100:300 , 250:400])\n",
    "cv2.waitKey()\n",
    "cv2.destroyAllWindows()\n"
   ]
  },
  {
   "cell_type": "code",
   "execution_count": 9,
   "metadata": {},
   "outputs": [
    {
     "data": {
      "text/plain": [
       "numpy.ndarray"
      ]
     },
     "execution_count": 9,
     "metadata": {},
     "output_type": "execute_result"
    }
   ],
   "source": [
    "type(photo)"
   ]
  },
  {
   "cell_type": "code",
   "execution_count": 10,
   "metadata": {},
   "outputs": [],
   "source": [
    "import numpy as np"
   ]
  },
  {
   "cell_type": "code",
   "execution_count": 16,
   "metadata": {},
   "outputs": [
    {
     "data": {
      "text/plain": [
       "(3, 2)"
      ]
     },
     "execution_count": 16,
     "metadata": {},
     "output_type": "execute_result"
    }
   ],
   "source": [
    "a = np.array([[1,11],\n",
    "              [2,22],\n",
    "              [3,33],])\n",
    "a.shape"
   ]
  },
  {
   "cell_type": "code",
   "execution_count": 17,
   "metadata": {},
   "outputs": [
    {
     "data": {
      "text/plain": [
       "(480, 640, 3)"
      ]
     },
     "execution_count": 17,
     "metadata": {},
     "output_type": "execute_result"
    }
   ],
   "source": [
    "photo.shape"
   ]
  },
  {
   "cell_type": "code",
   "execution_count": 18,
   "metadata": {},
   "outputs": [
    {
     "data": {
      "text/plain": [
       "array([[[110, 101, 101],\n",
       "        [111, 102, 102],\n",
       "        [112, 103, 103],\n",
       "        ...,\n",
       "        [255, 236, 203],\n",
       "        [253, 241, 205],\n",
       "        [254, 245, 208]],\n",
       "\n",
       "       [[111, 102, 102],\n",
       "        [111, 102, 102],\n",
       "        [111, 102, 102],\n",
       "        ...,\n",
       "        [255, 239, 206],\n",
       "        [255, 243, 207],\n",
       "        [255, 247, 210]],\n",
       "\n",
       "       [[112, 103, 103],\n",
       "        [112, 103, 103],\n",
       "        [111, 102, 102],\n",
       "        ...,\n",
       "        [255, 241, 204],\n",
       "        [255, 247, 207],\n",
       "        [255, 251, 209]],\n",
       "\n",
       "       ...,\n",
       "\n",
       "       [[ 85,  87,  71],\n",
       "        [ 85,  87,  70],\n",
       "        [ 87,  89,  69],\n",
       "        ...,\n",
       "        [ 39,  32,  26],\n",
       "        [ 37,  30,  24],\n",
       "        [ 36,  29,  23]],\n",
       "\n",
       "       [[ 77,  82,  76],\n",
       "        [ 78,  83,  75],\n",
       "        [ 80,  83,  73],\n",
       "        ...,\n",
       "        [ 38,  31,  25],\n",
       "        [ 37,  30,  24],\n",
       "        [ 36,  29,  23]],\n",
       "\n",
       "       [[ 81,  86,  80],\n",
       "        [ 82,  87,  79],\n",
       "        [ 84,  87,  77],\n",
       "        ...,\n",
       "        [ 38,  31,  25],\n",
       "        [ 36,  29,  23],\n",
       "        [ 36,  29,  23]]], dtype=uint8)"
      ]
     },
     "execution_count": 18,
     "metadata": {},
     "output_type": "execute_result"
    }
   ],
   "source": [
    "photo"
   ]
  },
  {
   "cell_type": "code",
   "execution_count": 27,
   "metadata": {},
   "outputs": [],
   "source": [
    "photo[0][0] = [0,0,0]"
   ]
  },
  {
   "cell_type": "code",
   "execution_count": 28,
   "metadata": {},
   "outputs": [],
   "source": [
    "photo[20] = [0,255,0]"
   ]
  },
  {
   "cell_type": "code",
   "execution_count": 29,
   "metadata": {},
   "outputs": [
    {
     "data": {
      "text/plain": [
       "array([[[  0,   0,   0],\n",
       "        [111, 102, 102],\n",
       "        [112, 103, 103],\n",
       "        ...,\n",
       "        [255, 236, 203],\n",
       "        [253, 241, 205],\n",
       "        [254, 245, 208]],\n",
       "\n",
       "       [[111, 102, 102],\n",
       "        [111, 102, 102],\n",
       "        [111, 102, 102],\n",
       "        ...,\n",
       "        [255, 239, 206],\n",
       "        [255, 243, 207],\n",
       "        [255, 247, 210]],\n",
       "\n",
       "       [[112, 103, 103],\n",
       "        [112, 103, 103],\n",
       "        [111, 102, 102],\n",
       "        ...,\n",
       "        [255, 241, 204],\n",
       "        [255, 247, 207],\n",
       "        [255, 251, 209]],\n",
       "\n",
       "       ...,\n",
       "\n",
       "       [[ 85,  87,  71],\n",
       "        [ 85,  87,  70],\n",
       "        [ 87,  89,  69],\n",
       "        ...,\n",
       "        [ 39,  32,  26],\n",
       "        [ 37,  30,  24],\n",
       "        [ 36,  29,  23]],\n",
       "\n",
       "       [[ 77,  82,  76],\n",
       "        [ 78,  83,  75],\n",
       "        [ 80,  83,  73],\n",
       "        ...,\n",
       "        [ 38,  31,  25],\n",
       "        [ 37,  30,  24],\n",
       "        [ 36,  29,  23]],\n",
       "\n",
       "       [[ 81,  86,  80],\n",
       "        [ 82,  87,  79],\n",
       "        [ 84,  87,  77],\n",
       "        ...,\n",
       "        [ 38,  31,  25],\n",
       "        [ 36,  29,  23],\n",
       "        [ 36,  29,  23]]], dtype=uint8)"
      ]
     },
     "execution_count": 29,
     "metadata": {},
     "output_type": "execute_result"
    }
   ],
   "source": [
    "photo\n"
   ]
  },
  {
   "cell_type": "markdown",
   "metadata": {},
   "source": []
  },
  {
   "cell_type": "code",
   "execution_count": 42,
   "metadata": {},
   "outputs": [
    {
     "data": {
      "text/plain": [
       "array([[ 1, 11],\n",
       "       [ 2, 22],\n",
       "       [43, 33]])"
      ]
     },
     "execution_count": 42,
     "metadata": {},
     "output_type": "execute_result"
    }
   ],
   "source": [
    "a[2][0] += 20 \n",
    "a"
   ]
  },
  {
   "cell_type": "code",
   "execution_count": 43,
   "metadata": {},
   "outputs": [
    {
     "data": {
      "text/plain": [
       "array([[101, 111],\n",
       "       [102, 122],\n",
       "       [143, 133]])"
      ]
     },
     "execution_count": 43,
     "metadata": {},
     "output_type": "execute_result"
    }
   ],
   "source": [
    "a += 100\n",
    "a"
   ]
  },
  {
   "cell_type": "code",
   "execution_count": null,
   "metadata": {},
   "outputs": [],
   "source": [
    "photo[100:300 , 250:400]"
   ]
  },
  {
   "cell_type": "markdown",
   "metadata": {},
   "source": [
    "task1 - Ek coustom photo  bnani h \n",
    "\n",
    "task2 - change face with someone\n",
    "\n",
    "task3 - make your own face\n",
    "\n",
    "task4 - get the sunglasses and append it to  your face\n",
    "\n",
    "task5 - remove all the green and blue color and show red color \n"
   ]
  },
  {
   "cell_type": "code",
   "execution_count": null,
   "metadata": {},
   "outputs": [],
   "source": []
  }
 ],
 "metadata": {
  "kernelspec": {
   "display_name": "Python 3",
   "language": "python",
   "name": "python3"
  },
  "language_info": {
   "codemirror_mode": {
    "name": "ipython",
    "version": 3
   },
   "file_extension": ".py",
   "mimetype": "text/x-python",
   "name": "python",
   "nbconvert_exporter": "python",
   "pygments_lexer": "ipython3",
   "version": "3.12.4"
  }
 },
 "nbformat": 4,
 "nbformat_minor": 2
}
