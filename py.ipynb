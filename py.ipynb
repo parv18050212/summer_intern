{
 "cells": [
  {
   "cell_type": "code",
   "execution_count": 2,
   "metadata": {},
   "outputs": [],
   "source": [
    "db = [['rahul',1111,'mumbai'],\n",
    "      ['eric',2222,'delhi'],\n",
    "      ['tom',3333,'jaipur'],\n",
    "      ['jack',4444,'jaipur']]\n"
   ]
  },
  {
   "cell_type": "code",
   "execution_count": 3,
   "metadata": {},
   "outputs": [
    {
     "data": {
      "text/plain": [
       "[['rahul', 1111, 'mumbai'],\n",
       " ['eric', 2222, 'delhi'],\n",
       " ['tom', 3333, 'jaipur'],\n",
       " ['jack', 4444, 'jaipur']]"
      ]
     },
     "execution_count": 3,
     "metadata": {},
     "output_type": "execute_result"
    }
   ],
   "source": [
    "db"
   ]
  },
  {
   "cell_type": "code",
   "execution_count": 20,
   "metadata": {},
   "outputs": [
    {
     "data": {
      "text/plain": [
       "array(['1111', '2222', '3333', '4444'], dtype='<U11')"
      ]
     },
     "execution_count": 20,
     "metadata": {},
     "output_type": "execute_result"
    }
   ],
   "source": [
    "import numpy as np \n",
    "db1 = np.array(db)\n",
    "\n",
    "db1[1:3,1:3] \n",
    "db1[: , 1]"
   ]
  },
  {
   "cell_type": "markdown",
   "metadata": {},
   "source": [
    "tasks:\n",
    "\n",
    "1. Python ke through whatsapp krna h  - done\n",
    "2. Python Ke through SMS krna h  - done\n",
    "3. Python ke through kisi mobile number pr call krna h done\n",
    "4. Python ke through E-Mail krna h - done\n",
    "5. Python ke through email ya sms ko schedule krna h  done\n",
    "6. Python ke through insta pr post krna h done\n",
    " \n",
    "7. python ke through x pr retrive krna h \n",
    "8. python ke through laptop ke speaker ke through hello bolega\n",
    "9. python ke through google search krna h  done\n",
    "10. khud ka apna meeting media setup krna h jaise zoom \n",
    "11. How to read a Ram\n",
    "12. Python apke camere se photo khichegaa aur usko mail krdega"
   ]
  },
  {
   "cell_type": "markdown",
   "metadata": {},
   "source": [
    "Task 1 - Python ke through whatsapp krna h "
   ]
  },
  {
   "cell_type": "code",
   "execution_count": 10,
   "metadata": {},
   "outputs": [],
   "source": [
    "\n",
    "import pywhatkit\n",
    " \n",
    " \n",
    "pywhatkit.sendwhatmsg_instantly(\"+918840268280\", \n",
    "                      \"hello\")"
   ]
  },
  {
   "cell_type": "markdown",
   "metadata": {},
   "source": [
    "task-2 send mail through python"
   ]
  },
  {
   "cell_type": "code",
   "execution_count": 11,
   "metadata": {},
   "outputs": [
    {
     "name": "stdout",
     "output_type": "stream",
     "text": [
      "mail sent\n"
     ]
    }
   ],
   "source": [
    "import smtplib\n",
    "server = smtplib.SMTP('smtp.gmail.com',587)\n",
    "\n",
    "server.starttls()\n",
    "\n",
    "server.login('parv23155@gmail.com','dckg ueoc wmsz vidg')\n",
    "\n",
    "server.sendmail('parv23155@gmail.com','parvagarwal73@gmail.com', 'hello friend')\n",
    "\n",
    "print('mail sent')\n"
   ]
  },
  {
   "cell_type": "markdown",
   "metadata": {},
   "source": [
    "Task - Schedule mail send using Python"
   ]
  },
  {
   "cell_type": "code",
   "execution_count": 3,
   "metadata": {},
   "outputs": [
    {
     "name": "stdout",
     "output_type": "stream",
     "text": [
      "Successfully sent email message to parvagarwal73@gmail.com:\n"
     ]
    },
    {
     "ename": "KeyboardInterrupt",
     "evalue": "",
     "output_type": "error",
     "traceback": [
      "\u001b[1;31m---------------------------------------------------------------------------\u001b[0m",
      "\u001b[1;31mKeyboardInterrupt\u001b[0m                         Traceback (most recent call last)",
      "Cell \u001b[1;32mIn[3], line 28\u001b[0m\n\u001b[0;32m     26\u001b[0m \u001b[38;5;28;01mwhile\u001b[39;00m \u001b[38;5;28;01mTrue\u001b[39;00m:\n\u001b[0;32m     27\u001b[0m     schedule\u001b[38;5;241m.\u001b[39mrun_pending()\n\u001b[1;32m---> 28\u001b[0m     \u001b[43mtime\u001b[49m\u001b[38;5;241;43m.\u001b[39;49m\u001b[43msleep\u001b[49m\u001b[43m(\u001b[49m\u001b[38;5;241;43m1\u001b[39;49m\u001b[43m)\u001b[49m\n",
      "\u001b[1;31mKeyboardInterrupt\u001b[0m: "
     ]
    }
   ],
   "source": [
    "import smtplib\n",
    "from email.mime.multipart import MIMEMultipart\n",
    "from email.mime.text import MIMEText\n",
    "import schedule\n",
    "import time\n",
    "\n",
    "def send_email():\n",
    "    msg = MIMEMultipart()\n",
    "    msg['From'] = 'parv23155@gmail.com'\n",
    "    msg['To'] = 'parvagarwal73@gmail.com'\n",
    "    msg['Subject'] = 'Scheduled Email'\n",
    "    body = 'This email was sent at a scheduled time.'\n",
    "    msg.attach(MIMEText(body, 'plain'))\n",
    "\n",
    "    server = smtplib.SMTP('smtp.gmail.com',587)\n",
    "\n",
    "    server.starttls()\n",
    "\n",
    "    server.login('parv23155@gmail.com','dckg ueoc wmsz vidg')\n",
    "\n",
    "    server.sendmail('parv23155@gmail.com','parvagarwal73@gmail.com', 'hello friend')\n",
    "\n",
    "    server.quit()\n",
    "    print(\"Successfully sent email message to %s:\" % (msg['To']))\n",
    "schedule.every().day.at(\"09:31\").do(send_email)\n",
    "while True:\n",
    "    schedule.run_pending()\n",
    "    time.sleep(1)"
   ]
  },
  {
   "cell_type": "code",
   "execution_count": 58,
   "metadata": {},
   "outputs": [
    {
     "name": "stdout",
     "output_type": "stream",
     "text": [
      "linux\n",
      "world\n"
     ]
    }
   ],
   "source": [
    "if (print('linux')):\n",
    "    print('linux')\n",
    "else:\n",
    "    print('world')"
   ]
  },
  {
   "cell_type": "markdown",
   "metadata": {},
   "source": [
    "task 3 - How to convert yout text to output into audio output"
   ]
  },
  {
   "cell_type": "code",
   "execution_count": 4,
   "metadata": {},
   "outputs": [],
   "source": [
    "import gtts  \n",
    "from playsound import playsound  \n",
    "t1 = gtts.gTTS(\"Hello numun bhai app kaise ho\")\n",
    "t1.save(\"welcome1.mp3\")   \n",
    "\n"
   ]
  },
  {
   "cell_type": "markdown",
   "metadata": {},
   "source": [
    "task 4 - how to make insta post  using python"
   ]
  },
  {
   "cell_type": "code",
   "execution_count": null,
   "metadata": {},
   "outputs": [],
   "source": [
    "\n",
    "from instabot import Bot\n",
    "bot = Bot()\n",
    "\n",
    "\n",
    "bot.login(username =  \"pytho_n12357\",  password = \"test_user12@\")\n",
    "\n",
    "\n",
    "bot.upload_photo(\"D:\\Coding\\summer_intern\\pic.jpeg\", caption = \"avengers assemble 123\")\n",
    "\n"
   ]
  },
  {
   "cell_type": "markdown",
   "metadata": {},
   "source": [
    "72C4H3ZS372JRR4RYG9LATHB - twilio "
   ]
  },
  {
   "cell_type": "code",
   "execution_count": 89,
   "metadata": {},
   "outputs": [],
   "source": [
    "exp = 10"
   ]
  },
  {
   "cell_type": "markdown",
   "metadata": {},
   "source": [
    "main hr hu aur mere mind me kuch chl rha h ki agar candidate ka exp kam hoga 2 se to job nhi denge otherwise job dedengi"
   ]
  },
  {
   "cell_type": "code",
   "execution_count": 90,
   "metadata": {},
   "outputs": [
    {
     "name": "stdout",
     "output_type": "stream",
     "text": [
      "job\n"
     ]
    }
   ],
   "source": [
    "(exp > 2 or print('no job')) and print('job')"
   ]
  },
  {
   "cell_type": "markdown",
   "metadata": {},
   "source": [
    "or ek lazy operator h or agar true h to vo age ka run ni krega \n",
    "\n",
    "and bhi ek lazy operator h agar and ka pehla statement false h to age ka run ni hoga"
   ]
  },
  {
   "cell_type": "code",
   "execution_count": null,
   "metadata": {},
   "outputs": [],
   "source": []
  },
  {
   "cell_type": "markdown",
   "metadata": {},
   "source": [
    "create a program to detect usb in pc and then click photo and mail automatically  "
   ]
  },
  {
   "cell_type": "code",
   "execution_count": null,
   "metadata": {},
   "outputs": [],
   "source": []
  },
  {
   "cell_type": "markdown",
   "metadata": {},
   "source": [
    "task - Python ke through google search\n"
   ]
  },
  {
   "cell_type": "code",
   "execution_count": 6,
   "metadata": {},
   "outputs": [
    {
     "name": "stdout",
     "output_type": "stream",
     "text": [
      "https://in.linkedin.com/in/parvagarwal\n",
      "https://www.instagram.com/parvagrwl/\n",
      "https://in.linkedin.com/in/parv-agarwal-a23850176\n",
      "https://www.instagram.com/parv1895/?hl=en\n",
      "https://m.facebook.com/public/Parv-Agarwal\n",
      "https://www.imdb.com/name/nm14625552/\n",
      "https://twitter.com/parv001?lang=en\n",
      "https://www.justdial.com/Allahabad/Parv-Agarwal-Advocate-Ahc/0532PX532-X532-140407112759-C7A7_BZDET\n",
      "https://www.amazon.in/Books-Parv-Agarwal/s?rh=n%3A976389031%2Cp_27%3AParv+Agarwal\n",
      "https://www.facebook.com/parvagarwal1895/\n"
     ]
    }
   ],
   "source": [
    "\n",
    "\n",
    "try:\n",
    "    from googlesearch import search\n",
    "except ImportError: \n",
    "    print(\"No module named 'google' found\")\n",
    " \n",
    "# to search\n",
    "query = \"Parv Agarwal\"\n",
    " \n",
    "for j in search(query, tld=\"co.in\", num=10, stop=10, pause=2):\n",
    "    print(j)"
   ]
  },
  {
   "cell_type": "code",
   "execution_count": null,
   "metadata": {},
   "outputs": [],
   "source": []
  },
  {
   "cell_type": "code",
   "execution_count": null,
   "metadata": {},
   "outputs": [],
   "source": []
  },
  {
   "cell_type": "code",
   "execution_count": null,
   "metadata": {},
   "outputs": [],
   "source": [
    "import cv2\n",
    "\n",
    "def capture_photo(filename):\n",
    "    # Video capture object ko initialize karna\n",
    "    cap = cv2.VideoCapture(0)\n",
    "    \n",
    "    # Capture frame\n",
    "    ret, frame = cap.read()\n",
    "    \n",
    "    # Agar frame capture hua hai toh usko save karo\n",
    "    if ret:\n",
    "        cv2.imwrite(filename, frame)\n",
    "    \n",
    "    # Release the capture object\n",
    "    cap.release()\n",
    "\n",
    "capture_photo('photo.jpg')\n",
    "\n",
    "\n",
    "\n",
    "\n",
    "import smtplib\n",
    "from email.mime.multipart import MIMEMultipart\n",
    "from email.mime.text import MIMEText\n",
    "from email.mime.base import MIMEBase\n",
    "from email import encoders\n",
    "\n",
    "def send_email_with_attachment(to_email, subject, body, attachment_path):\n",
    "    from_email = 'parv23155@gmail.com'\n",
    "    password = 'dckg ueoc wmsz vidg'\n",
    "    \n",
    "    # Create the MIMEMultipart object\n",
    "    msg = MIMEMultipart()\n",
    "    msg['From'] = from_email\n",
    "    msg['To'] = to_email\n",
    "    msg['Subject'] = subject\n",
    "    \n",
    "    # Attach the body text\n",
    "    msg.attach(MIMEText(body, 'plain'))\n",
    "    \n",
    "    # Open the attachment file\n",
    "    attachment = open(attachment_path, 'rb')\n",
    "    \n",
    "    # Create a MIMEBase object\n",
    "    mime_base = MIMEBase('application', 'octet-stream')\n",
    "    mime_base.set_payload((attachment).read())\n",
    "    encoders.encode_base64(mime_base)\n",
    "    mime_base.add_header('Content-Disposition', 'attachment; filename= {}'.format(attachment_path))\n",
    "    \n",
    "    # Attach the file to the message\n",
    "    msg.attach(mime_base)\n",
    "    \n",
    "    # Connect to the SMTP server and send the email\n",
    "    server = smtplib.SMTP('smtp.gmail.com', 587)\n",
    "    server.starttls()\n",
    "    server.login('parv23155@gmail.com',' dckg ueoc wmsz vidg')\n",
    "    text = msg.as_string()\n",
    "    server.sendmail('parv23155@gmail.com', 'parvagarwal73@gmail.com', 'this is photo of the user')\n",
    "    server.quit()\n",
    "\n",
    "send_email_with_attachment('parvagarwal73@gmail.com', 'Subject: Photo', 'Body: Here is the photo you requested.', 'photo.jpg')\n"
   ]
  },
  {
   "cell_type": "markdown",
   "metadata": {},
   "source": []
  },
  {
   "cell_type": "code",
   "execution_count": null,
   "metadata": {},
   "outputs": [],
   "source": []
  },
  {
   "cell_type": "code",
   "execution_count": null,
   "metadata": {},
   "outputs": [],
   "source": []
  }
 ],
 "metadata": {
  "kernelspec": {
   "display_name": "Python 3",
   "language": "python",
   "name": "python3"
  },
  "language_info": {
   "codemirror_mode": {
    "name": "ipython",
    "version": 3
   },
   "file_extension": ".py",
   "mimetype": "text/x-python",
   "name": "python",
   "nbconvert_exporter": "python",
   "pygments_lexer": "ipython3",
   "version": "3.12.4"
  }
 },
 "nbformat": 4,
 "nbformat_minor": 2
}
